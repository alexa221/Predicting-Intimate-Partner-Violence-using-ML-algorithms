{
 "cells": [
  {
   "cell_type": "markdown",
   "metadata": {},
   "source": [
    "## Predicting Intimate Partner Violence using Homogenouse Ensemble Machine Learning Algorithms"
   ]
  },
  {
   "cell_type": "markdown",
   "metadata": {},
   "source": [
    "# DataSet Description"
   ]
  },
  {
   "cell_type": "markdown",
   "metadata": {},
   "source": [
    "The study is based on data gathered from the Ethiopian demographic, health survey (EDHS) collected two times with five-year intervals. \n",
    "\n",
    "\n",
    "\n",
    "The study was conducted following an experimental research approach. \n",
    "The ensemble ML algorithms such as extreme gradient boosting, CatBoost, Random Forest, and LightGBM with class decomposition OvR were employed to develop a prediction model. \n",
    "\n",
    "For constructing the proposed model, experiments were conducted with a total of 35185 instances with 22 features, and a training and testing dataset split ratio of 80/20.\n",
    "\n",
    "\n",
    "Finally, the we decided to use CatBoost as the best predictive homogenous ensemble machine learning model for the prediction of IPV, for further use in risk factor identification, and generate rules because it has registered better performance with 94.39% in terms of accuracy than others. \n",
    "\n",
    "With the CatBoost model, we have selected the most serious risk factors using the feature importance. Some of them are women's household empowerment status, wife afraid of her husband, working status of women, place of residence, first marriage decision, marital duration,  husband education level, are the most determinant risks factors."
   ]
  },
  {
   "cell_type": "code",
   "execution_count": null,
   "metadata": {},
   "outputs": [],
   "source": []
  },
  {
   "cell_type": "code",
   "execution_count": null,
   "metadata": {},
   "outputs": [],
   "source": []
  },
  {
   "cell_type": "markdown",
   "metadata": {},
   "source": [
    "# Import Important Packages\n",
    " The Python libraries in Data Science we import are used for Data Analysis \n",
    " \n",
    " I will start off by importing the required Python libraries."
   ]
  },
  {
   "cell_type": "code",
   "execution_count": 1,
   "metadata": {},
   "outputs": [],
   "source": [
    "import pandas as pd # for DataFrame\n",
    "import numpy as np  # for Numerical Python\n",
    "import matplotlib.pyplot as plt #Python 2D plotting library to produce quality figures\n",
    "import seaborn as sns\n",
    "#import imbalanced-learn\n",
    "import warnings"
   ]
  },
  {
   "cell_type": "code",
   "execution_count": 2,
   "metadata": {},
   "outputs": [],
   "source": [
    "#from sklearn.decomposition import PCA\n",
    "from sklearn.feature_selection import RFE ,RFECV\n",
    "from sklearn.feature_selection import SelectKBest,SelectPercentile,chi2\n",
    "from sklearn.linear_model import LogisticRegression"
   ]
  },
  {
   "cell_type": "code",
   "execution_count": null,
   "metadata": {},
   "outputs": [],
   "source": [
    "from sklearn import metrics\n",
    "from sklearn.metrics import accuracy_score,f1_score\n",
    "from sklearn.metrics import f1_score,confusion_matrix,roc_auc_score\n",
    "from sklearn.model_selection import train_test_split,StratifiedKFold"
   ]
  },
  {
   "cell_type": "markdown",
   "metadata": {},
   "source": [
    "\n"
   ]
  },
  {
   "cell_type": "markdown",
   "metadata": {},
   "source": [
    "# 1.  Load & Clean Data\n",
    "Ensure ***clean*** and ***tidy*** data. \n",
    "Remove ***outliers. \n",
    "Deal with ***missing data points, quasiconstant"
   ]
  },
  {
   "cell_type": "code",
   "execution_count": null,
   "metadata": {},
   "outputs": [],
   "source": [
    "# 1.  Loading the dataset"
   ]
  },
  {
   "cell_type": "code",
   "execution_count": null,
   "metadata": {},
   "outputs": [],
   "source": []
  },
  {
   "cell_type": "code",
   "execution_count": 3,
   "metadata": {},
   "outputs": [],
   "source": [
    "ds=pd.read_csv(\"C:/Users/alext/Desktop/update/dv.csv\")\n"
   ]
  },
  {
   "cell_type": "code",
   "execution_count": 4,
   "metadata": {},
   "outputs": [
    {
     "data": {
      "text/plain": [
       "(10769, 50)"
      ]
     },
     "execution_count": 4,
     "metadata": {},
     "output_type": "execute_result"
    }
   ],
   "source": [
    "# Check Five rows of the dataset\n",
    "ds.shape"
   ]
  },
  {
   "cell_type": "code",
   "execution_count": 5,
   "metadata": {},
   "outputs": [
    {
     "data": {
      "text/plain": [
       "Index(['women_age', 'region', 'residence', 'v106', 'religion', 'ethnicity',\n",
       "       'no_of_H_members', 'v137', 'v150', 'v151', 'age_H_head', 'v157', 'v158',\n",
       "       'v159', 'wealth_Index', 'total_children_ever_born',\n",
       "       'currently_pregnant', 'No_of_living_children', 'v312', 'v463a', 'v501',\n",
       "       'number_of_other_wives', 'marital_duration', 'v621',\n",
       "       'husband_education', 'husbands_occupation', 'v714', 'v716', 'v730',\n",
       "       'v743a', 'v743b', 'v743d', 'v743f', 'v744a', 'v744b', 'v744c', 'v744e',\n",
       "       'v745a', 'v745b', 'v822', 'v850a', 'd101a', 'd101b', 'd101c', 'd101d',\n",
       "       'd101e', 'husband_drinks_alcohol', 'd121', 'wife_afraid_hasband',\n",
       "       'ipv'],\n",
       "      dtype='object')"
      ]
     },
     "execution_count": 5,
     "metadata": {},
     "output_type": "execute_result"
    }
   ],
   "source": [
    "#Statistical Info\n",
    "ds.columns"
   ]
  },
  {
   "cell_type": "code",
   "execution_count": null,
   "metadata": {},
   "outputs": [],
   "source": []
  },
  {
   "cell_type": "code",
   "execution_count": 179,
   "metadata": {},
   "outputs": [],
   "source": [
    "#result = pd.concat([data,data1])"
   ]
  },
  {
   "cell_type": "code",
   "execution_count": 180,
   "metadata": {},
   "outputs": [],
   "source": [
    "#check duplication\n",
    "\n",
    "#result.duplicated().sum()"
   ]
  },
  {
   "cell_type": "code",
   "execution_count": null,
   "metadata": {},
   "outputs": [],
   "source": []
  },
  {
   "cell_type": "code",
   "execution_count": 181,
   "metadata": {},
   "outputs": [],
   "source": [
    "#a=result.drop_duplicates(keep=False)"
   ]
  },
  {
   "cell_type": "code",
   "execution_count": 182,
   "metadata": {},
   "outputs": [],
   "source": [
    "#a.to_csv(\"c:/users/administrator/desktop/update/dv.csv\")\n"
   ]
  },
  {
   "cell_type": "code",
   "execution_count": 405,
   "metadata": {},
   "outputs": [
    {
     "data": {
      "text/html": [
       "<div>\n",
       "<style scoped>\n",
       "    .dataframe tbody tr th:only-of-type {\n",
       "        vertical-align: middle;\n",
       "    }\n",
       "\n",
       "    .dataframe tbody tr th {\n",
       "        vertical-align: top;\n",
       "    }\n",
       "\n",
       "    .dataframe thead th {\n",
       "        text-align: right;\n",
       "    }\n",
       "</style>\n",
       "<table border=\"1\" class=\"dataframe\">\n",
       "  <thead>\n",
       "    <tr style=\"text-align: right;\">\n",
       "      <th></th>\n",
       "      <th>women_age</th>\n",
       "      <th>region</th>\n",
       "      <th>residence</th>\n",
       "      <th>v106</th>\n",
       "      <th>religion</th>\n",
       "      <th>ethnicity</th>\n",
       "      <th>no_of_H_members</th>\n",
       "      <th>v137</th>\n",
       "      <th>v150</th>\n",
       "      <th>v151</th>\n",
       "      <th>...</th>\n",
       "      <th>v850a</th>\n",
       "      <th>d101a</th>\n",
       "      <th>d101b</th>\n",
       "      <th>d101c</th>\n",
       "      <th>d101d</th>\n",
       "      <th>d101e</th>\n",
       "      <th>husband_drinks_alcohol</th>\n",
       "      <th>d121</th>\n",
       "      <th>wife_afraid_hasband</th>\n",
       "      <th>ipv</th>\n",
       "    </tr>\n",
       "  </thead>\n",
       "  <tbody>\n",
       "    <tr>\n",
       "      <th>0</th>\n",
       "      <td>4</td>\n",
       "      <td>4</td>\n",
       "      <td>2</td>\n",
       "      <td>0</td>\n",
       "      <td>4</td>\n",
       "      <td>2</td>\n",
       "      <td>3</td>\n",
       "      <td>1</td>\n",
       "      <td>10</td>\n",
       "      <td>2</td>\n",
       "      <td>...</td>\n",
       "      <td>0</td>\n",
       "      <td>0</td>\n",
       "      <td>0</td>\n",
       "      <td>0</td>\n",
       "      <td>0</td>\n",
       "      <td>0</td>\n",
       "      <td>0</td>\n",
       "      <td>0</td>\n",
       "      <td>2</td>\n",
       "      <td>0</td>\n",
       "    </tr>\n",
       "    <tr>\n",
       "      <th>1</th>\n",
       "      <td>4</td>\n",
       "      <td>4</td>\n",
       "      <td>2</td>\n",
       "      <td>0</td>\n",
       "      <td>4</td>\n",
       "      <td>2</td>\n",
       "      <td>7</td>\n",
       "      <td>3</td>\n",
       "      <td>2</td>\n",
       "      <td>1</td>\n",
       "      <td>...</td>\n",
       "      <td>0</td>\n",
       "      <td>0</td>\n",
       "      <td>0</td>\n",
       "      <td>0</td>\n",
       "      <td>0</td>\n",
       "      <td>0</td>\n",
       "      <td>0</td>\n",
       "      <td>0</td>\n",
       "      <td>2</td>\n",
       "      <td>0</td>\n",
       "    </tr>\n",
       "    <tr>\n",
       "      <th>2</th>\n",
       "      <td>7</td>\n",
       "      <td>4</td>\n",
       "      <td>2</td>\n",
       "      <td>0</td>\n",
       "      <td>4</td>\n",
       "      <td>2</td>\n",
       "      <td>5</td>\n",
       "      <td>0</td>\n",
       "      <td>2</td>\n",
       "      <td>1</td>\n",
       "      <td>...</td>\n",
       "      <td>1</td>\n",
       "      <td>0</td>\n",
       "      <td>0</td>\n",
       "      <td>0</td>\n",
       "      <td>0</td>\n",
       "      <td>0</td>\n",
       "      <td>0</td>\n",
       "      <td>0</td>\n",
       "      <td>2</td>\n",
       "      <td>0</td>\n",
       "    </tr>\n",
       "    <tr>\n",
       "      <th>3</th>\n",
       "      <td>3</td>\n",
       "      <td>4</td>\n",
       "      <td>2</td>\n",
       "      <td>1</td>\n",
       "      <td>4</td>\n",
       "      <td>2</td>\n",
       "      <td>5</td>\n",
       "      <td>1</td>\n",
       "      <td>2</td>\n",
       "      <td>1</td>\n",
       "      <td>...</td>\n",
       "      <td>0</td>\n",
       "      <td>0</td>\n",
       "      <td>0</td>\n",
       "      <td>0</td>\n",
       "      <td>0</td>\n",
       "      <td>1</td>\n",
       "      <td>0</td>\n",
       "      <td>0</td>\n",
       "      <td>0</td>\n",
       "      <td>0</td>\n",
       "    </tr>\n",
       "    <tr>\n",
       "      <th>4</th>\n",
       "      <td>3</td>\n",
       "      <td>4</td>\n",
       "      <td>2</td>\n",
       "      <td>1</td>\n",
       "      <td>4</td>\n",
       "      <td>2</td>\n",
       "      <td>4</td>\n",
       "      <td>2</td>\n",
       "      <td>2</td>\n",
       "      <td>1</td>\n",
       "      <td>...</td>\n",
       "      <td>1</td>\n",
       "      <td>0</td>\n",
       "      <td>0</td>\n",
       "      <td>0</td>\n",
       "      <td>0</td>\n",
       "      <td>0</td>\n",
       "      <td>0</td>\n",
       "      <td>0</td>\n",
       "      <td>2</td>\n",
       "      <td>0</td>\n",
       "    </tr>\n",
       "  </tbody>\n",
       "</table>\n",
       "<p>5 rows × 50 columns</p>\n",
       "</div>"
      ],
      "text/plain": [
       "   women_age  region  residence  v106  religion ethnicity  no_of_H_members  \\\n",
       "0          4       4          2     0         4         2                3   \n",
       "1          4       4          2     0         4         2                7   \n",
       "2          7       4          2     0         4         2                5   \n",
       "3          3       4          2     1         4         2                5   \n",
       "4          3       4          2     1         4         2                4   \n",
       "\n",
       "   v137  v150  v151  ...  v850a d101a  d101b d101c  d101d  d101e  \\\n",
       "0     1    10     2  ...      0     0      0     0      0      0   \n",
       "1     3     2     1  ...      0     0      0     0      0      0   \n",
       "2     0     2     1  ...      1     0      0     0      0      0   \n",
       "3     1     2     1  ...      0     0      0     0      0      1   \n",
       "4     2     2     1  ...      1     0      0     0      0      0   \n",
       "\n",
       "   husband_drinks_alcohol  d121  wife_afraid_hasband ipv  \n",
       "0                       0     0                    2   0  \n",
       "1                       0     0                    2   0  \n",
       "2                       0     0                    2   0  \n",
       "3                       0     0                    0   0  \n",
       "4                       0     0                    2   0  \n",
       "\n",
       "[5 rows x 50 columns]"
      ]
     },
     "execution_count": 405,
     "metadata": {},
     "output_type": "execute_result"
    }
   ],
   "source": [
    "#Check the five rows of the dataset\n",
    "\n",
    "ds.head()"
   ]
  },
  {
   "cell_type": "code",
   "execution_count": null,
   "metadata": {},
   "outputs": [],
   "source": []
  },
  {
   "cell_type": "code",
   "execution_count": 406,
   "metadata": {},
   "outputs": [
    {
     "data": {
      "text/html": [
       "<div>\n",
       "<style scoped>\n",
       "    .dataframe tbody tr th:only-of-type {\n",
       "        vertical-align: middle;\n",
       "    }\n",
       "\n",
       "    .dataframe tbody tr th {\n",
       "        vertical-align: top;\n",
       "    }\n",
       "\n",
       "    .dataframe thead th {\n",
       "        text-align: right;\n",
       "    }\n",
       "</style>\n",
       "<table border=\"1\" class=\"dataframe\">\n",
       "  <thead>\n",
       "    <tr style=\"text-align: right;\">\n",
       "      <th></th>\n",
       "      <th>women_age</th>\n",
       "      <th>region</th>\n",
       "      <th>residence</th>\n",
       "      <th>v106</th>\n",
       "      <th>religion</th>\n",
       "      <th>no_of_H_members</th>\n",
       "      <th>v137</th>\n",
       "      <th>v150</th>\n",
       "      <th>v151</th>\n",
       "      <th>age_H_head</th>\n",
       "      <th>...</th>\n",
       "      <th>wealth_Index</th>\n",
       "      <th>total_children_ever_born</th>\n",
       "      <th>currently_pregnant</th>\n",
       "      <th>No_of_living_children</th>\n",
       "      <th>v312</th>\n",
       "      <th>v501</th>\n",
       "      <th>marital_duration</th>\n",
       "      <th>d101a</th>\n",
       "      <th>d101e</th>\n",
       "      <th>ipv</th>\n",
       "    </tr>\n",
       "  </thead>\n",
       "  <tbody>\n",
       "    <tr>\n",
       "      <th>count</th>\n",
       "      <td>10769.000000</td>\n",
       "      <td>10769.000000</td>\n",
       "      <td>10769.000000</td>\n",
       "      <td>10769.000000</td>\n",
       "      <td>10769.000000</td>\n",
       "      <td>10769.000000</td>\n",
       "      <td>10769.000000</td>\n",
       "      <td>10769.000000</td>\n",
       "      <td>10769.000000</td>\n",
       "      <td>10769.000000</td>\n",
       "      <td>...</td>\n",
       "      <td>10769.000000</td>\n",
       "      <td>10769.000000</td>\n",
       "      <td>10769.000000</td>\n",
       "      <td>10769.000000</td>\n",
       "      <td>10769.000000</td>\n",
       "      <td>10769.000000</td>\n",
       "      <td>10769.000000</td>\n",
       "      <td>10769.000000</td>\n",
       "      <td>10769.000000</td>\n",
       "      <td>10769.000000</td>\n",
       "    </tr>\n",
       "    <tr>\n",
       "      <th>mean</th>\n",
       "      <td>3.864611</td>\n",
       "      <td>5.022565</td>\n",
       "      <td>1.706194</td>\n",
       "      <td>0.805832</td>\n",
       "      <td>2.852911</td>\n",
       "      <td>5.055901</td>\n",
       "      <td>1.112824</td>\n",
       "      <td>1.983564</td>\n",
       "      <td>1.261213</td>\n",
       "      <td>38.640542</td>\n",
       "      <td>...</td>\n",
       "      <td>2.890333</td>\n",
       "      <td>3.617978</td>\n",
       "      <td>0.049308</td>\n",
       "      <td>3.239391</td>\n",
       "      <td>1.906677</td>\n",
       "      <td>1.355465</td>\n",
       "      <td>17.869997</td>\n",
       "      <td>0.474603</td>\n",
       "      <td>0.332621</td>\n",
       "      <td>0.678893</td>\n",
       "    </tr>\n",
       "    <tr>\n",
       "      <th>std</th>\n",
       "      <td>1.616013</td>\n",
       "      <td>2.772174</td>\n",
       "      <td>0.455525</td>\n",
       "      <td>0.869183</td>\n",
       "      <td>6.599078</td>\n",
       "      <td>2.172329</td>\n",
       "      <td>0.956129</td>\n",
       "      <td>1.180029</td>\n",
       "      <td>0.439316</td>\n",
       "      <td>11.834504</td>\n",
       "      <td>...</td>\n",
       "      <td>1.543677</td>\n",
       "      <td>2.547220</td>\n",
       "      <td>0.216521</td>\n",
       "      <td>2.224176</td>\n",
       "      <td>3.258621</td>\n",
       "      <td>0.969601</td>\n",
       "      <td>4.060121</td>\n",
       "      <td>0.831522</td>\n",
       "      <td>0.557149</td>\n",
       "      <td>1.105068</td>\n",
       "    </tr>\n",
       "    <tr>\n",
       "      <th>min</th>\n",
       "      <td>1.000000</td>\n",
       "      <td>1.000000</td>\n",
       "      <td>1.000000</td>\n",
       "      <td>0.000000</td>\n",
       "      <td>1.000000</td>\n",
       "      <td>1.000000</td>\n",
       "      <td>0.000000</td>\n",
       "      <td>1.000000</td>\n",
       "      <td>1.000000</td>\n",
       "      <td>15.000000</td>\n",
       "      <td>...</td>\n",
       "      <td>1.000000</td>\n",
       "      <td>0.000000</td>\n",
       "      <td>0.000000</td>\n",
       "      <td>0.000000</td>\n",
       "      <td>0.000000</td>\n",
       "      <td>1.000000</td>\n",
       "      <td>10.000000</td>\n",
       "      <td>0.000000</td>\n",
       "      <td>0.000000</td>\n",
       "      <td>0.000000</td>\n",
       "    </tr>\n",
       "    <tr>\n",
       "      <th>25%</th>\n",
       "      <td>3.000000</td>\n",
       "      <td>3.000000</td>\n",
       "      <td>1.000000</td>\n",
       "      <td>0.000000</td>\n",
       "      <td>1.000000</td>\n",
       "      <td>3.000000</td>\n",
       "      <td>0.000000</td>\n",
       "      <td>2.000000</td>\n",
       "      <td>1.000000</td>\n",
       "      <td>30.000000</td>\n",
       "      <td>...</td>\n",
       "      <td>1.000000</td>\n",
       "      <td>2.000000</td>\n",
       "      <td>0.000000</td>\n",
       "      <td>2.000000</td>\n",
       "      <td>0.000000</td>\n",
       "      <td>1.000000</td>\n",
       "      <td>15.000000</td>\n",
       "      <td>0.000000</td>\n",
       "      <td>0.000000</td>\n",
       "      <td>0.000000</td>\n",
       "    </tr>\n",
       "    <tr>\n",
       "      <th>50%</th>\n",
       "      <td>4.000000</td>\n",
       "      <td>5.000000</td>\n",
       "      <td>2.000000</td>\n",
       "      <td>1.000000</td>\n",
       "      <td>2.000000</td>\n",
       "      <td>5.000000</td>\n",
       "      <td>1.000000</td>\n",
       "      <td>2.000000</td>\n",
       "      <td>1.000000</td>\n",
       "      <td>37.000000</td>\n",
       "      <td>...</td>\n",
       "      <td>3.000000</td>\n",
       "      <td>3.000000</td>\n",
       "      <td>0.000000</td>\n",
       "      <td>3.000000</td>\n",
       "      <td>0.000000</td>\n",
       "      <td>1.000000</td>\n",
       "      <td>17.000000</td>\n",
       "      <td>0.000000</td>\n",
       "      <td>0.000000</td>\n",
       "      <td>0.000000</td>\n",
       "    </tr>\n",
       "    <tr>\n",
       "      <th>75%</th>\n",
       "      <td>5.000000</td>\n",
       "      <td>7.000000</td>\n",
       "      <td>2.000000</td>\n",
       "      <td>1.000000</td>\n",
       "      <td>4.000000</td>\n",
       "      <td>6.000000</td>\n",
       "      <td>2.000000</td>\n",
       "      <td>2.000000</td>\n",
       "      <td>2.000000</td>\n",
       "      <td>45.000000</td>\n",
       "      <td>...</td>\n",
       "      <td>4.000000</td>\n",
       "      <td>5.000000</td>\n",
       "      <td>0.000000</td>\n",
       "      <td>5.000000</td>\n",
       "      <td>3.000000</td>\n",
       "      <td>1.000000</td>\n",
       "      <td>20.000000</td>\n",
       "      <td>1.000000</td>\n",
       "      <td>1.000000</td>\n",
       "      <td>1.000000</td>\n",
       "    </tr>\n",
       "    <tr>\n",
       "      <th>max</th>\n",
       "      <td>7.000000</td>\n",
       "      <td>11.000000</td>\n",
       "      <td>2.000000</td>\n",
       "      <td>3.000000</td>\n",
       "      <td>96.000000</td>\n",
       "      <td>19.000000</td>\n",
       "      <td>6.000000</td>\n",
       "      <td>12.000000</td>\n",
       "      <td>2.000000</td>\n",
       "      <td>98.000000</td>\n",
       "      <td>...</td>\n",
       "      <td>5.000000</td>\n",
       "      <td>15.000000</td>\n",
       "      <td>1.000000</td>\n",
       "      <td>12.000000</td>\n",
       "      <td>18.000000</td>\n",
       "      <td>5.000000</td>\n",
       "      <td>43.000000</td>\n",
       "      <td>8.000000</td>\n",
       "      <td>8.000000</td>\n",
       "      <td>4.000000</td>\n",
       "    </tr>\n",
       "  </tbody>\n",
       "</table>\n",
       "<p>8 rows × 21 columns</p>\n",
       "</div>"
      ],
      "text/plain": [
       "          women_age        region     residence          v106      religion  \\\n",
       "count  10769.000000  10769.000000  10769.000000  10769.000000  10769.000000   \n",
       "mean       3.864611      5.022565      1.706194      0.805832      2.852911   \n",
       "std        1.616013      2.772174      0.455525      0.869183      6.599078   \n",
       "min        1.000000      1.000000      1.000000      0.000000      1.000000   \n",
       "25%        3.000000      3.000000      1.000000      0.000000      1.000000   \n",
       "50%        4.000000      5.000000      2.000000      1.000000      2.000000   \n",
       "75%        5.000000      7.000000      2.000000      1.000000      4.000000   \n",
       "max        7.000000     11.000000      2.000000      3.000000     96.000000   \n",
       "\n",
       "       no_of_H_members          v137          v150          v151  \\\n",
       "count     10769.000000  10769.000000  10769.000000  10769.000000   \n",
       "mean          5.055901      1.112824      1.983564      1.261213   \n",
       "std           2.172329      0.956129      1.180029      0.439316   \n",
       "min           1.000000      0.000000      1.000000      1.000000   \n",
       "25%           3.000000      0.000000      2.000000      1.000000   \n",
       "50%           5.000000      1.000000      2.000000      1.000000   \n",
       "75%           6.000000      2.000000      2.000000      2.000000   \n",
       "max          19.000000      6.000000     12.000000      2.000000   \n",
       "\n",
       "         age_H_head  ...  wealth_Index  total_children_ever_born  \\\n",
       "count  10769.000000  ...  10769.000000              10769.000000   \n",
       "mean      38.640542  ...      2.890333                  3.617978   \n",
       "std       11.834504  ...      1.543677                  2.547220   \n",
       "min       15.000000  ...      1.000000                  0.000000   \n",
       "25%       30.000000  ...      1.000000                  2.000000   \n",
       "50%       37.000000  ...      3.000000                  3.000000   \n",
       "75%       45.000000  ...      4.000000                  5.000000   \n",
       "max       98.000000  ...      5.000000                 15.000000   \n",
       "\n",
       "       currently_pregnant  No_of_living_children          v312          v501  \\\n",
       "count        10769.000000           10769.000000  10769.000000  10769.000000   \n",
       "mean             0.049308               3.239391      1.906677      1.355465   \n",
       "std              0.216521               2.224176      3.258621      0.969601   \n",
       "min              0.000000               0.000000      0.000000      1.000000   \n",
       "25%              0.000000               2.000000      0.000000      1.000000   \n",
       "50%              0.000000               3.000000      0.000000      1.000000   \n",
       "75%              0.000000               5.000000      3.000000      1.000000   \n",
       "max              1.000000              12.000000     18.000000      5.000000   \n",
       "\n",
       "       marital_duration         d101a         d101e           ipv  \n",
       "count      10769.000000  10769.000000  10769.000000  10769.000000  \n",
       "mean          17.869997      0.474603      0.332621      0.678893  \n",
       "std            4.060121      0.831522      0.557149      1.105068  \n",
       "min           10.000000      0.000000      0.000000      0.000000  \n",
       "25%           15.000000      0.000000      0.000000      0.000000  \n",
       "50%           17.000000      0.000000      0.000000      0.000000  \n",
       "75%           20.000000      1.000000      1.000000      1.000000  \n",
       "max           43.000000      8.000000      8.000000      4.000000  \n",
       "\n",
       "[8 rows x 21 columns]"
      ]
     },
     "execution_count": 406,
     "metadata": {},
     "output_type": "execute_result"
    }
   ],
   "source": [
    "#Statistical Info\n",
    "ds.describe()"
   ]
  },
  {
   "cell_type": "code",
   "execution_count": 407,
   "metadata": {},
   "outputs": [
    {
     "name": "stdout",
     "output_type": "stream",
     "text": [
      "<class 'pandas.core.frame.DataFrame'>\n",
      "RangeIndex: 10769 entries, 0 to 10768\n",
      "Data columns (total 50 columns):\n",
      " #   Column                    Non-Null Count  Dtype \n",
      "---  ------                    --------------  ----- \n",
      " 0   women_age                 10769 non-null  int64 \n",
      " 1   region                    10769 non-null  int64 \n",
      " 2   residence                 10769 non-null  int64 \n",
      " 3   v106                      10769 non-null  int64 \n",
      " 4   religion                  10769 non-null  int64 \n",
      " 5   ethnicity                 10769 non-null  object\n",
      " 6   no_of_H_members           10769 non-null  int64 \n",
      " 7   v137                      10769 non-null  int64 \n",
      " 8   v150                      10769 non-null  int64 \n",
      " 9   v151                      10769 non-null  int64 \n",
      " 10  age_H_head                10769 non-null  int64 \n",
      " 11  v157                      10769 non-null  object\n",
      " 12  v158                      10769 non-null  int64 \n",
      " 13  v159                      10769 non-null  object\n",
      " 14  wealth_Index              10769 non-null  int64 \n",
      " 15  total_children_ever_born  10769 non-null  int64 \n",
      " 16  currently_pregnant        10769 non-null  int64 \n",
      " 17  No_of_living_children     10769 non-null  int64 \n",
      " 18  v312                      10769 non-null  int64 \n",
      " 19  v463a                     10769 non-null  object\n",
      " 20  v501                      10769 non-null  int64 \n",
      " 21  number_of_other_wives     10172 non-null  object\n",
      " 22  marital_duration          10769 non-null  int64 \n",
      " 23  v621                      10159 non-null  object\n",
      " 24  husband_education         10172 non-null  object\n",
      " 25  husbands_occupation       10172 non-null  object\n",
      " 26  v714                      10769 non-null  object\n",
      " 27  v716                      10769 non-null  object\n",
      " 28  v730                      10172 non-null  object\n",
      " 29  v743a                     10172 non-null  object\n",
      " 30  v743b                     10172 non-null  object\n",
      " 31  v743d                     10172 non-null  object\n",
      " 32  v743f                     10149 non-null  object\n",
      " 33  v744a                     10769 non-null  object\n",
      " 34  v744b                     10769 non-null  object\n",
      " 35  v744c                     10769 non-null  object\n",
      " 36  v744e                     10769 non-null  object\n",
      " 37  v745a                     10769 non-null  object\n",
      " 38  v745b                     10769 non-null  object\n",
      " 39  v822                      10769 non-null  object\n",
      " 40  v850a                     10172 non-null  object\n",
      " 41  d101a                     10769 non-null  int64 \n",
      " 42  d101b                     10769 non-null  object\n",
      " 43  d101c                     10769 non-null  object\n",
      " 44  d101d                     10769 non-null  object\n",
      " 45  d101e                     10769 non-null  int64 \n",
      " 46  husband_drinks_alcohol    10769 non-null  object\n",
      " 47  d121                      10769 non-null  object\n",
      " 48  wife_afraid_hasband       10769 non-null  object\n",
      " 49  ipv                       10769 non-null  int64 \n",
      "dtypes: int64(21), object(29)\n",
      "memory usage: 4.1+ MB\n"
     ]
    }
   ],
   "source": [
    "#Data of Attributes\n",
    "\n",
    "ds.info()"
   ]
  },
  {
   "cell_type": "code",
   "execution_count": 408,
   "metadata": {},
   "outputs": [
    {
     "data": {
      "text/plain": [
       "women_age                    7\n",
       "region                      11\n",
       "residence                    2\n",
       "v106                         4\n",
       "religion                     6\n",
       "ethnicity                   45\n",
       "no_of_H_members             18\n",
       "v137                         7\n",
       "v150                        11\n",
       "v151                         2\n",
       "age_H_head                  81\n",
       "v157                         4\n",
       "v158                         3\n",
       "v159                         4\n",
       "wealth_Index                 5\n",
       "total_children_ever_born    16\n",
       "currently_pregnant           2\n",
       "No_of_living_children       13\n",
       "v312                        15\n",
       "v463a                        3\n",
       "v501                         5\n",
       "number_of_other_wives       11\n",
       "marital_duration            34\n",
       "v621                         6\n",
       "husband_education            7\n",
       "husbands_occupation         64\n",
       "v714                         3\n",
       "v716                        57\n",
       "v730                        76\n",
       "v743a                        7\n",
       "v743b                        7\n",
       "v743d                        7\n",
       "v743f                        7\n",
       "v744a                        4\n",
       "v744b                        4\n",
       "v744c                        4\n",
       "v744e                        4\n",
       "v745a                        5\n",
       "v745b                        5\n",
       "v822                         4\n",
       "v850a                        5\n",
       "d101a                        3\n",
       "d101b                        4\n",
       "d101c                        4\n",
       "d101d                        4\n",
       "d101e                        3\n",
       "husband_drinks_alcohol       3\n",
       "d121                         4\n",
       "wife_afraid_hasband          4\n",
       "ipv                          5\n",
       "dtype: int64"
      ]
     },
     "execution_count": 408,
     "metadata": {},
     "output_type": "execute_result"
    }
   ],
   "source": [
    "#Check unique values in dataset\n",
    "\n",
    "ds.apply(lambda x: len(x.unique()))\n",
    "\n"
   ]
  },
  {
   "cell_type": "code",
   "execution_count": 409,
   "metadata": {},
   "outputs": [],
   "source": [
    "#ds['total_children_ever_born'].value_counts"
   ]
  },
  {
   "cell_type": "code",
   "execution_count": null,
   "metadata": {},
   "outputs": [],
   "source": []
  },
  {
   "cell_type": "code",
   "execution_count": null,
   "metadata": {},
   "outputs": [],
   "source": []
  },
  {
   "cell_type": "markdown",
   "metadata": {},
   "source": [
    "# 2.  Preprocessing The Dataset"
   ]
  },
  {
   "cell_type": "code",
   "execution_count": 410,
   "metadata": {},
   "outputs": [
    {
     "data": {
      "text/plain": [
       "women_age                     0\n",
       "region                        0\n",
       "residence                     0\n",
       "v106                          0\n",
       "religion                      0\n",
       "ethnicity                     0\n",
       "no_of_H_members               0\n",
       "v137                          0\n",
       "v150                          0\n",
       "v151                          0\n",
       "age_H_head                    0\n",
       "v157                          0\n",
       "v158                          0\n",
       "v159                          0\n",
       "wealth_Index                  0\n",
       "total_children_ever_born      0\n",
       "currently_pregnant            0\n",
       "No_of_living_children         0\n",
       "v312                          0\n",
       "v463a                         0\n",
       "v501                          0\n",
       "number_of_other_wives       597\n",
       "marital_duration              0\n",
       "v621                        610\n",
       "husband_education           597\n",
       "husbands_occupation         597\n",
       "v714                          0\n",
       "v716                          0\n",
       "v730                        597\n",
       "v743a                       597\n",
       "v743b                       597\n",
       "v743d                       597\n",
       "v743f                       620\n",
       "v744a                         0\n",
       "v744b                         0\n",
       "v744c                         0\n",
       "v744e                         0\n",
       "v745a                         0\n",
       "v745b                         0\n",
       "v822                          0\n",
       "v850a                       597\n",
       "d101a                         0\n",
       "d101b                         0\n",
       "d101c                         0\n",
       "d101d                         0\n",
       "d101e                         0\n",
       "husband_drinks_alcohol        0\n",
       "d121                          0\n",
       "wife_afraid_hasband           0\n",
       "ipv                           0\n",
       "dtype: int64"
      ]
     },
     "execution_count": 410,
     "metadata": {},
     "output_type": "execute_result"
    }
   ],
   "source": [
    "# Check for null Values\n",
    "ds.isnull().sum()"
   ]
  },
  {
   "cell_type": "code",
   "execution_count": 411,
   "metadata": {},
   "outputs": [],
   "source": [
    "#import missingno as msno # Visualize missing values in our dataset\n"
   ]
  },
  {
   "cell_type": "code",
   "execution_count": null,
   "metadata": {},
   "outputs": [],
   "source": []
  },
  {
   "cell_type": "code",
   "execution_count": 412,
   "metadata": {},
   "outputs": [
    {
     "data": {
      "text/plain": [
       "['ethnicity',\n",
       " 'v157',\n",
       " 'v159',\n",
       " 'v463a',\n",
       " 'number_of_other_wives',\n",
       " 'v621',\n",
       " 'husband_education',\n",
       " 'husbands_occupation',\n",
       " 'v714',\n",
       " 'v716',\n",
       " 'v730',\n",
       " 'v743a',\n",
       " 'v743b',\n",
       " 'v743d',\n",
       " 'v743f',\n",
       " 'v744a',\n",
       " 'v744b',\n",
       " 'v744c',\n",
       " 'v744e',\n",
       " 'v745a',\n",
       " 'v745b',\n",
       " 'v822',\n",
       " 'v850a',\n",
       " 'd101b',\n",
       " 'd101c',\n",
       " 'd101d',\n",
       " 'husband_drinks_alcohol',\n",
       " 'd121',\n",
       " 'wife_afraid_hasband']"
      ]
     },
     "execution_count": 412,
     "metadata": {},
     "output_type": "execute_result"
    }
   ],
   "source": [
    "#Check for Categorical Attributes\n",
    "cat_colmn = []\n",
    "for x in ds.dtypes.index:\n",
    "    if ds.dtypes[x] == 'object':\n",
    "        cat_colmn.append(x)\n",
    "cat_colmn\n",
    "        "
   ]
  },
  {
   "cell_type": "code",
   "execution_count": 413,
   "metadata": {},
   "outputs": [],
   "source": [
    "ds.drop(ds.columns[ds.columns.str.contains('unnamed',case = False)],axis = 1, inplace = True)"
   ]
  },
  {
   "cell_type": "code",
   "execution_count": null,
   "metadata": {},
   "outputs": [],
   "source": []
  },
  {
   "cell_type": "code",
   "execution_count": 414,
   "metadata": {},
   "outputs": [],
   "source": [
    "def deterimine_types_feature(ds):\n",
    "    feature_types=[]\n",
    "    n_unique_values_threshold=0\n",
    "    \n",
    "    for column in ds.columns:\n",
    "        unique_values=ds[column].unique()\n",
    "        example_value=unique_values[0]\n",
    "        \n",
    "        if(isinstance(example_value,str)) or (len(unique_values)<=n_unique_values_threshold):\n",
    "            feature_types.append(\"cate\")\n",
    "        else:\n",
    "            feature_types.append(\"conti\")\n",
    "    return feature_types"
   ]
  },
  {
   "cell_type": "code",
   "execution_count": 415,
   "metadata": {},
   "outputs": [
    {
     "data": {
      "text/plain": [
       "women_age                    int64\n",
       "region                       int64\n",
       "residence                    int64\n",
       "v106                         int64\n",
       "religion                     int64\n",
       "ethnicity                   object\n",
       "no_of_H_members              int64\n",
       "v137                         int64\n",
       "v150                         int64\n",
       "v151                         int64\n",
       "age_H_head                   int64\n",
       "v157                        object\n",
       "v158                         int64\n",
       "v159                        object\n",
       "wealth_Index                 int64\n",
       "total_children_ever_born     int64\n",
       "currently_pregnant           int64\n",
       "No_of_living_children        int64\n",
       "v312                         int64\n",
       "v463a                       object\n",
       "v501                         int64\n",
       "number_of_other_wives       object\n",
       "marital_duration             int64\n",
       "v621                        object\n",
       "husband_education           object\n",
       "husbands_occupation         object\n",
       "v714                        object\n",
       "v716                        object\n",
       "v730                        object\n",
       "v743a                       object\n",
       "v743b                       object\n",
       "v743d                       object\n",
       "v743f                       object\n",
       "v744a                       object\n",
       "v744b                       object\n",
       "v744c                       object\n",
       "v744e                       object\n",
       "v745a                       object\n",
       "v745b                       object\n",
       "v822                        object\n",
       "v850a                       object\n",
       "d101a                        int64\n",
       "d101b                       object\n",
       "d101c                       object\n",
       "d101d                       object\n",
       "d101e                        int64\n",
       "husband_drinks_alcohol      object\n",
       "d121                        object\n",
       "wife_afraid_hasband         object\n",
       "ipv                          int64\n",
       "dtype: object"
      ]
     },
     "execution_count": 415,
     "metadata": {},
     "output_type": "execute_result"
    }
   ],
   "source": [
    "ds.dtypes"
   ]
  },
  {
   "cell_type": "code",
   "execution_count": 416,
   "metadata": {},
   "outputs": [
    {
     "name": "stdout",
     "output_type": "stream",
     "text": [
      "women_age - conti\n",
      "region - conti\n",
      "residence - conti\n",
      "v106 - conti\n",
      "religion - conti\n",
      "ethnicity - cate\n",
      "no_of_H_members - conti\n",
      "v137 - conti\n",
      "v150 - conti\n",
      "v151 - conti\n",
      "age_H_head - conti\n",
      "v157 - cate\n",
      "v158 - conti\n",
      "v159 - cate\n",
      "wealth_Index - conti\n",
      "total_children_ever_born - conti\n",
      "currently_pregnant - conti\n",
      "No_of_living_children - conti\n",
      "v312 - conti\n",
      "v463a - cate\n",
      "v501 - conti\n",
      "number_of_other_wives - cate\n",
      "marital_duration - conti\n",
      "v621 - cate\n",
      "husband_education - cate\n",
      "husbands_occupation - cate\n",
      "v714 - cate\n",
      "v716 - cate\n",
      "v730 - cate\n",
      "v743a - cate\n",
      "v743b - cate\n",
      "v743d - cate\n",
      "v743f - cate\n",
      "v744a - cate\n",
      "v744b - cate\n",
      "v744c - cate\n",
      "v744e - cate\n",
      "v745a - cate\n",
      "v745b - cate\n",
      "v822 - cate\n",
      "v850a - cate\n",
      "d101a - conti\n",
      "d101b - cate\n",
      "d101c - cate\n",
      "d101d - cate\n",
      "d101e - conti\n",
      "husband_drinks_alcohol - cate\n",
      "d121 - cate\n",
      "wife_afraid_hasband - cate\n",
      "ipv - conti\n"
     ]
    }
   ],
   "source": [
    "feature_types=deterimine_types_feature(ds)\n",
    "i=0\n",
    "for column in ds.columns:\n",
    "    print(column,\"-\",feature_types[i])\n",
    "    i+=1"
   ]
  },
  {
   "cell_type": "markdown",
   "metadata": {},
   "source": [
    "ds.dtypes\n",
    "for x in ds:\n",
    "    if ds[x].dtypes == \"float\":\n",
    "        ds[x] = ds[x].astype(int)\n",
    "        print (ds[x].dtypes)"
   ]
  },
  {
   "cell_type": "code",
   "execution_count": 417,
   "metadata": {},
   "outputs": [
    {
     "data": {
      "text/plain": [
       "women_age                    int64\n",
       "region                       int64\n",
       "residence                    int64\n",
       "v106                         int64\n",
       "religion                     int64\n",
       "ethnicity                   object\n",
       "no_of_H_members              int64\n",
       "v137                         int64\n",
       "v150                         int64\n",
       "v151                         int64\n",
       "age_H_head                   int64\n",
       "v157                        object\n",
       "v158                         int64\n",
       "v159                        object\n",
       "wealth_Index                 int64\n",
       "total_children_ever_born     int64\n",
       "currently_pregnant           int64\n",
       "No_of_living_children        int64\n",
       "v312                         int64\n",
       "v463a                       object\n",
       "v501                         int64\n",
       "number_of_other_wives       object\n",
       "marital_duration             int64\n",
       "v621                        object\n",
       "husband_education           object\n",
       "husbands_occupation         object\n",
       "v714                        object\n",
       "v716                        object\n",
       "v730                        object\n",
       "v743a                       object\n",
       "v743b                       object\n",
       "v743d                       object\n",
       "v743f                       object\n",
       "v744a                       object\n",
       "v744b                       object\n",
       "v744c                       object\n",
       "v744e                       object\n",
       "v745a                       object\n",
       "v745b                       object\n",
       "v822                        object\n",
       "v850a                       object\n",
       "d101a                        int64\n",
       "d101b                       object\n",
       "d101c                       object\n",
       "d101d                       object\n",
       "d101e                        int64\n",
       "husband_drinks_alcohol      object\n",
       "d121                        object\n",
       "wife_afraid_hasband         object\n",
       "ipv                          int64\n",
       "dtype: object"
      ]
     },
     "execution_count": 417,
     "metadata": {},
     "output_type": "execute_result"
    }
   ],
   "source": [
    "ds.dtypes"
   ]
  },
  {
   "cell_type": "markdown",
   "metadata": {},
   "source": [
    "from sklearn.impute import KNNImputer\n",
    "imputer = KNNImputer(n_neighbors = 1)\n",
    "imputer.fit_transform(ds)\n",
    "\n"
   ]
  },
  {
   "cell_type": "code",
   "execution_count": 420,
   "metadata": {},
   "outputs": [
    {
     "name": "stdout",
     "output_type": "stream",
     "text": [
      "women_age  == >>  [4 7 3 6 5 2 1]\n",
      "region  == >>  [ 4  5  3  2 11  6  7  8 10  9  1]\n",
      "residence  == >>  [2 1]\n",
      "v106  == >>  [0 1 2 3]\n",
      "religion  == >>  [ 4  1  2  3  5 96]\n",
      "ethnicity  == >>  ['2' '5' '1' '4' '10' '99' '96' '7' '16' '15' '6' '3' '9' '38' '18' '12'\n",
      " '73' '13' '11' '14' '75' '8' '34' '35' '19' '20' '72' '71' '85' '17' '53'\n",
      " '64' '59' '24' '43' '22' '33' '76' '28' '47' '30' '44' '93' ' ' '21']\n",
      "no_of_H_members  == >>  [ 3  7  5  4  8 10  6  2  9 12  1 11 13 15 14 16 17 19]\n",
      "v137  == >>  [1 3 0 2 4 5 6]\n",
      "v150  == >>  [10  2  1  3 11  4  5 12  8  6  7]\n",
      "v151  == >>  [2 1]\n",
      "age_H_head  == >>  [60 43 55 35 30 36 49 47 42 22 25 62 38 40 20 27 65 83 34 24 19 44 28 46\n",
      " 18 32 50 37 53 26 48 41 80 29 45 33 31 39 63 76 21 54 64 61 23 70 79 85\n",
      " 57 68 69 56 88 67 58 51 59 52 73 78 87 71 72 17 98 66 75 82 90 81 16 15\n",
      " 84 77 91 93 86 74 95 89 94]\n",
      "v157  == >>  ['0' '1' '2' ' ']\n",
      "v158  == >>  [0 2 1]\n",
      "v159  == >>  ['0' '1' '2' ' ']\n",
      "wealth_Index  == >>  [2 1 3 4 5]\n",
      "total_children_ever_born  == >>  [ 4  5  7  0  2  3  6  8  1 11 12 10  9 13 14 15]\n",
      "currently_pregnant  == >>  [1 0]\n",
      "No_of_living_children  == >>  [ 4  5  7  0  2  3  6  8  1  9 10 11 12]\n",
      "v312  == >>  [ 0  3  2 11 16  1  8  6 13  9  5 18 10 14  7]\n",
      "v463a  == >>  ['0' '1' ' ']\n",
      "v501  == >>  [1 4 2 3 5]\n",
      "number_of_other_wives  == >>  ['0' '1' nan '2' '6' '3' '98' '4' ' ' '5' '13']\n",
      "marital_duration  == >>  [18 23 13 21 19 15 20 26 17 16 10 12 14 11 24 28 31 25 22 27 29 34 37 30\n",
      " 42 43 36 33 32 35 39 38 41 40]\n",
      "v621  == >>  ['1' '2' '8' '3' nan ' ']\n",
      "husband_education  == >>  ['0' '2' '1' nan '8' '3' ' ']\n",
      "husbands_occupation  == >>  ['63' '51' '0' '33' '54' nan '73' '61' '92' '83' '75' '52' '23' '99998'\n",
      " '96' '26' '12' '95' '93' '31' '74' '36' '43' '71' '42' '44' '72' '2' '3'\n",
      " '14' '32' '24' '53' '34' '91' '21' '22' '11' '82' '35' '81' '62' '41'\n",
      " '39' '88' '76' '28' '87' '77' ' ' '25' '13' '29' '15' '37' '78' '89' '27'\n",
      " '1' '85' '84' '86' '65' '64']\n",
      "v714  == >>  ['0' '1' ' ']\n",
      "v716  == >>  ['0' '52' '75' '63' '73' '61' '96' '92' '51' '53' '62' '93' '36' '34' '41'\n",
      " '91' '74' '42' '26' '23' '54' '32' '33' '25' '44' '24' '22' '71' '72'\n",
      " '81' '82' '21' '43' '12' '95' '35' '14' '83' '94' '77' '37' '39' '31'\n",
      " '28' '15' '13' '76' ' ' '89' '11' '86' '87' '29' '78' '88' '27' '65']\n",
      "v730  == >>  ['42' '43' '55' '35' '30' '36' '49' '47' '23' '40' '25' '32' nan '48' '34'\n",
      " '56' '37' '28' '41' '21' '68' '22' '65' '63' '50' '60' '44' '45' '75'\n",
      " '18' '26' '29' '64' '27' '52' '53' '57' '95' '33' '39' '38' '76' '19'\n",
      " '24' '61' '74' '62' '31' '80' '46' '54' '16' '70' '69' '67' '58' '15'\n",
      " '66' '51' '85' '20' '78' '87' '71' '59' '72' '90' '84' '77' '86' '17'\n",
      " '93' ' ' '73' '81' '94']\n",
      "v743a  == >>  ['4' '2' '1' nan '6' '5' ' ']\n",
      "v743b  == >>  ['4' '2' '1' nan '5' '6' ' ']\n",
      "v743d  == >>  ['4' '1' '2' nan '6' '5' ' ']\n",
      "v743f  == >>  ['4' '2' '1' nan '7' '6' ' ']\n",
      "v744a  == >>  ['1' '0' '8' ' ']\n",
      "v744b  == >>  ['1' '0' '8' ' ']\n",
      "v744c  == >>  ['1' '0' '8' ' ']\n",
      "v744e  == >>  ['1' '0' '8' ' ']\n",
      "v745a  == >>  ['2' '1' '0' '3' ' ']\n",
      "v745b  == >>  ['2' '1' '0' '3' ' ']\n",
      "v822  == >>  ['0' '1' '8' ' ']\n",
      "v850a  == >>  ['0' '1' nan '8' ' ']\n",
      "d101a  == >>  [0 1 8]\n",
      "d101b  == >>  ['0' '1' '8' ' ']\n",
      "d101c  == >>  ['0' '1' '8' ' ']\n",
      "d101d  == >>  ['0' '1' '8' ' ']\n",
      "d101e  == >>  [0 1 8]\n",
      "husband_drinks_alcohol  == >>  ['0' '1' ' ']\n",
      "d121  == >>  ['0' '1' '8' ' ']\n",
      "wife_afraid_hasband  == >>  ['2' '0' '1' ' ']\n",
      "ipv  == >>  [0 1 2 3 4]\n"
     ]
    }
   ],
   "source": [
    "# Enumerate Function in Python to check unickness of  all columns \n",
    "\n",
    "for l, k in enumerate(ds.columns):\n",
    "      print(k, ' == >> ',ds[k].unique())"
   ]
  },
  {
   "cell_type": "code",
   "execution_count": 421,
   "metadata": {},
   "outputs": [],
   "source": [
    "for i in ds.columns:\n",
    "    ds[i] = pd.to_numeric(ds[i], errors='coerce')"
   ]
  },
  {
   "cell_type": "code",
   "execution_count": 422,
   "metadata": {},
   "outputs": [
    {
     "data": {
      "text/plain": [
       "women_age                      0\n",
       "region                         0\n",
       "residence                      0\n",
       "v106                           0\n",
       "religion                       0\n",
       "ethnicity                      2\n",
       "no_of_H_members                0\n",
       "v137                           0\n",
       "v150                           0\n",
       "v151                           0\n",
       "age_H_head                     0\n",
       "v157                           1\n",
       "v158                           0\n",
       "v159                           1\n",
       "wealth_Index                   0\n",
       "total_children_ever_born       0\n",
       "currently_pregnant             0\n",
       "No_of_living_children          0\n",
       "v312                           0\n",
       "v463a                          1\n",
       "v501                           0\n",
       "number_of_other_wives       1186\n",
       "marital_duration               0\n",
       "v621                        1281\n",
       "husband_education            605\n",
       "husbands_occupation          649\n",
       "v714                           2\n",
       "v716                          19\n",
       "v730                        1200\n",
       "v743a                       1183\n",
       "v743b                       1183\n",
       "v743d                       1183\n",
       "v743f                       1255\n",
       "v744a                          1\n",
       "v744b                          1\n",
       "v744c                          3\n",
       "v744e                          1\n",
       "v745a                          2\n",
       "v745b                          4\n",
       "v822                           1\n",
       "v850a                       1182\n",
       "d101a                          0\n",
       "d101b                          2\n",
       "d101c                          3\n",
       "d101d                          3\n",
       "d101e                          0\n",
       "husband_drinks_alcohol         1\n",
       "d121                           4\n",
       "wife_afraid_hasband            2\n",
       "ipv                            0\n",
       "dtype: int64"
      ]
     },
     "execution_count": 422,
     "metadata": {},
     "output_type": "execute_result"
    }
   ],
   "source": [
    "ds.isnull().sum()"
   ]
  },
  {
   "cell_type": "markdown",
   "metadata": {},
   "source": [
    "# Missing Vale Imputation\n",
    "###### a. Mode Imputation for Categorical Feature\n",
    "###### b. Mean Imputation for Numerical Features"
   ]
  },
  {
   "cell_type": "code",
   "execution_count": 423,
   "metadata": {},
   "outputs": [
    {
     "name": "stderr",
     "output_type": "stream",
     "text": [
      "C:\\ProgramData\\Anaconda3\\lib\\site-packages\\seaborn\\_decorators.py:36: FutureWarning: Pass the following variable as a keyword arg: x. From version 0.12, the only valid positional argument will be `data`, and passing other arguments without an explicit keyword will result in an error or misinterpretation.\n",
      "  warnings.warn(\n",
      "C:\\ProgramData\\Anaconda3\\lib\\site-packages\\seaborn\\distributions.py:2619: FutureWarning: `distplot` is a deprecated function and will be removed in a future version. Please adapt your code to use either `displot` (a figure-level function with similar flexibility) or `histplot` (an axes-level function for histograms).\n",
      "  warnings.warn(msg, FutureWarning)\n"
     ]
    },
    {
     "data": {
      "text/plain": [
       "<AxesSubplot:xlabel='ethnicity', ylabel='Density'>"
      ]
     },
     "execution_count": 423,
     "metadata": {},
     "output_type": "execute_result"
    },
    {
     "data": {
      "image/png": "[encoded data removed]",
      "text/plain": [
       "<Figure size 432x288 with 1 Axes>"
      ]
     },
     "metadata": {
      "needs_background": "light"
     },
     "output_type": "display_data"
    }
   ],
   "source": [
    " #Boxplots can be used to identify most appropriate technique for missing values imputation?\n",
    "\n",
    "\n",
    "\n",
    "sns.boxplot(ds.ethnicity)\n",
    "#\n",
    "# Distribution plot\n",
    "#\n",
    "sns.distplot(ds.ethnicity)"
   ]
  },
  {
   "cell_type": "code",
   "execution_count": 424,
   "metadata": {},
   "outputs": [
    {
     "data": {
      "text/plain": [
       "2"
      ]
     },
     "execution_count": 424,
     "metadata": {},
     "output_type": "execute_result"
    }
   ],
   "source": [
    "ds['ethnicity'].isnull().sum()"
   ]
  },
  {
   "cell_type": "code",
   "execution_count": 425,
   "metadata": {},
   "outputs": [],
   "source": [
    "ds['ethnicity'] = ds['ethnicity'].fillna(ds['ethnicity'].mode()[0]) "
   ]
  },
  {
   "cell_type": "code",
   "execution_count": 426,
   "metadata": {},
   "outputs": [
    {
     "data": {
      "text/plain": [
       "0"
      ]
     },
     "execution_count": 426,
     "metadata": {},
     "output_type": "execute_result"
    }
   ],
   "source": [
    "ds['ethnicity'].isnull().sum()"
   ]
  },
  {
   "cell_type": "code",
   "execution_count": 427,
   "metadata": {},
   "outputs": [
    {
     "data": {
      "text/plain": [
       "1"
      ]
     },
     "execution_count": 427,
     "metadata": {},
     "output_type": "execute_result"
    }
   ],
   "source": [
    "ds['v157'].isnull().sum()"
   ]
  },
  {
   "cell_type": "code",
   "execution_count": 428,
   "metadata": {},
   "outputs": [],
   "source": [
    "ds['v157'] = ds['v157'].fillna(ds['v157'].mode()[0]) "
   ]
  },
  {
   "cell_type": "code",
   "execution_count": 429,
   "metadata": {},
   "outputs": [
    {
     "data": {
      "text/plain": [
       "0"
      ]
     },
     "execution_count": 429,
     "metadata": {},
     "output_type": "execute_result"
    }
   ],
   "source": [
    "ds['v157'].isnull().sum()  "
   ]
  },
  {
   "cell_type": "code",
   "execution_count": 430,
   "metadata": {},
   "outputs": [
    {
     "data": {
      "text/plain": [
       "1"
      ]
     },
     "execution_count": 430,
     "metadata": {},
     "output_type": "execute_result"
    }
   ],
   "source": [
    "ds['v159'].isnull().sum()"
   ]
  },
  {
   "cell_type": "code",
   "execution_count": 431,
   "metadata": {},
   "outputs": [],
   "source": [
    "ds['v159'] = ds['v159'].fillna(ds['v159'].mode()[0]) "
   ]
  },
  {
   "cell_type": "code",
   "execution_count": 432,
   "metadata": {},
   "outputs": [
    {
     "data": {
      "text/plain": [
       "0"
      ]
     },
     "execution_count": 432,
     "metadata": {},
     "output_type": "execute_result"
    }
   ],
   "source": [
    "ds['v159'].isnull().sum()"
   ]
  },
  {
   "cell_type": "code",
   "execution_count": 433,
   "metadata": {},
   "outputs": [
    {
     "data": {
      "text/plain": [
       "1"
      ]
     },
     "execution_count": 433,
     "metadata": {},
     "output_type": "execute_result"
    }
   ],
   "source": [
    "ds['v463a'].isnull().sum()"
   ]
  },
  {
   "cell_type": "code",
   "execution_count": 434,
   "metadata": {},
   "outputs": [],
   "source": [
    "ds['v463a'] = ds['v463a'].fillna(ds['v463a'].mode()[0]) "
   ]
  },
  {
   "cell_type": "code",
   "execution_count": 435,
   "metadata": {},
   "outputs": [
    {
     "data": {
      "text/plain": [
       "0"
      ]
     },
     "execution_count": 435,
     "metadata": {},
     "output_type": "execute_result"
    }
   ],
   "source": [
    "ds['v463a'].isnull().sum()"
   ]
  },
  {
   "cell_type": "code",
   "execution_count": 436,
   "metadata": {},
   "outputs": [
    {
     "data": {
      "text/plain": [
       "1186"
      ]
     },
     "execution_count": 436,
     "metadata": {},
     "output_type": "execute_result"
    }
   ],
   "source": [
    "ds['number_of_other_wives'].isnull().sum()"
   ]
  },
  {
   "cell_type": "code",
   "execution_count": 437,
   "metadata": {},
   "outputs": [],
   "source": [
    "ds['number_of_other_wives'] = ds['number_of_other_wives'].fillna(ds['number_of_other_wives'].mode()[0]) "
   ]
  },
  {
   "cell_type": "code",
   "execution_count": 438,
   "metadata": {},
   "outputs": [
    {
     "data": {
      "text/plain": [
       "0"
      ]
     },
     "execution_count": 438,
     "metadata": {},
     "output_type": "execute_result"
    }
   ],
   "source": [
    "ds['number_of_other_wives'].isnull().sum()"
   ]
  },
  {
   "cell_type": "code",
   "execution_count": 439,
   "metadata": {},
   "outputs": [
    {
     "data": {
      "text/plain": [
       "605"
      ]
     },
     "execution_count": 439,
     "metadata": {},
     "output_type": "execute_result"
    }
   ],
   "source": [
    "ds['husband_education'].isnull().sum()"
   ]
  },
  {
   "cell_type": "code",
   "execution_count": 440,
   "metadata": {},
   "outputs": [],
   "source": [
    "ds['husband_education'] = ds['husband_education'].fillna(ds['husband_education'].mode()[0]) "
   ]
  },
  {
   "cell_type": "code",
   "execution_count": 441,
   "metadata": {},
   "outputs": [
    {
     "data": {
      "text/plain": [
       "0"
      ]
     },
     "execution_count": 441,
     "metadata": {},
     "output_type": "execute_result"
    }
   ],
   "source": [
    "ds['husband_education'].isnull().sum()"
   ]
  },
  {
   "cell_type": "code",
   "execution_count": 443,
   "metadata": {},
   "outputs": [],
   "source": [
    "ds['v714'] = ds['v714'].fillna(ds['v714'].mode()[0]) "
   ]
  },
  {
   "cell_type": "code",
   "execution_count": 444,
   "metadata": {},
   "outputs": [],
   "source": [
    "ds['v716'] = ds['v716'].fillna(ds['v716'].mode()[0]) "
   ]
  },
  {
   "cell_type": "code",
   "execution_count": null,
   "metadata": {},
   "outputs": [],
   "source": []
  },
  {
   "cell_type": "code",
   "execution_count": 445,
   "metadata": {},
   "outputs": [],
   "source": [
    "ds[\"v730\"] = ds[\"v730\"].replace(np.NaN, ds[\"v730\"].mean())"
   ]
  },
  {
   "cell_type": "code",
   "execution_count": 10,
   "metadata": {},
   "outputs": [],
   "source": [
    "#ds['v730'].fillna(ds.mean()['v730'])"
   ]
  },
  {
   "cell_type": "code",
   "execution_count": 446,
   "metadata": {},
   "outputs": [],
   "source": [
    "ds['husbands_occupation'] = ds['husbands_occupation'].fillna(ds['husbands_occupation'].mode()[0]) "
   ]
  },
  {
   "cell_type": "code",
   "execution_count": 447,
   "metadata": {},
   "outputs": [],
   "source": [
    "ds['v743a'] = ds['v743a'].fillna(ds['v743a'].mode()[0]) "
   ]
  },
  {
   "cell_type": "code",
   "execution_count": 448,
   "metadata": {},
   "outputs": [],
   "source": [
    "ds['v743b'] = ds['v743b'].fillna(ds['v743b'].mode()[0]) "
   ]
  },
  {
   "cell_type": "code",
   "execution_count": 449,
   "metadata": {},
   "outputs": [],
   "source": [
    "ds['v743d'] = ds['v743d'].fillna(ds['v743d'].mode()[0]) "
   ]
  },
  {
   "cell_type": "code",
   "execution_count": 450,
   "metadata": {},
   "outputs": [],
   "source": [
    "ds['v743f'] = ds['v743f'].fillna(ds['v743f'].mode()[0]) "
   ]
  },
  {
   "cell_type": "code",
   "execution_count": 451,
   "metadata": {},
   "outputs": [],
   "source": [
    "ds['v744a'] = ds['v744a'].fillna(ds['v744a'].mode()[0]) "
   ]
  },
  {
   "cell_type": "code",
   "execution_count": 452,
   "metadata": {},
   "outputs": [],
   "source": [
    "ds['v744b'] = ds['v744b'].fillna(ds['v744b'].mode()[0])"
   ]
  },
  {
   "cell_type": "code",
   "execution_count": 453,
   "metadata": {},
   "outputs": [],
   "source": [
    "ds['v744c'] = ds['v744c'].fillna(ds['v744c'].mode()[0])"
   ]
  },
  {
   "cell_type": "code",
   "execution_count": 454,
   "metadata": {},
   "outputs": [],
   "source": [
    "ds['v744e'] = ds['v744e'].fillna(ds['v744e'].mode()[0])"
   ]
  },
  {
   "cell_type": "code",
   "execution_count": 455,
   "metadata": {},
   "outputs": [],
   "source": [
    "ds['v745a'] = ds['v745a'].fillna(ds['v745a'].mode()[0])"
   ]
  },
  {
   "cell_type": "code",
   "execution_count": 456,
   "metadata": {},
   "outputs": [],
   "source": [
    "ds['v745b'] = ds['v745b'].fillna(ds['v745b'].mode()[0])"
   ]
  },
  {
   "cell_type": "code",
   "execution_count": 457,
   "metadata": {},
   "outputs": [],
   "source": [
    "ds['v822'] = ds['v822'].fillna(ds['v822'].mode()[0])"
   ]
  },
  {
   "cell_type": "code",
   "execution_count": 458,
   "metadata": {},
   "outputs": [],
   "source": [
    "ds['d101b'] = ds['d101b'].fillna(ds['d101b'].mode()[0]) "
   ]
  },
  {
   "cell_type": "code",
   "execution_count": 459,
   "metadata": {},
   "outputs": [],
   "source": [
    "ds['d101c'] = ds['d101c'].fillna(ds['d101c'].mode()[0]) "
   ]
  },
  {
   "cell_type": "code",
   "execution_count": 460,
   "metadata": {},
   "outputs": [],
   "source": [
    "ds['d101d'] = ds['d101d'].fillna(ds['d101d'].mode()[0]) "
   ]
  },
  {
   "cell_type": "code",
   "execution_count": 461,
   "metadata": {},
   "outputs": [],
   "source": [
    "ds['v850a'] = ds['v850a'].fillna(ds['v850a'].mode()[0]) "
   ]
  },
  {
   "cell_type": "code",
   "execution_count": 462,
   "metadata": {},
   "outputs": [
    {
     "data": {
      "text/plain": [
       "Index(['women_age', 'region', 'residence', 'v106', 'religion', 'ethnicity',\n",
       "       'no_of_H_members', 'v137', 'v150', 'v151', 'age_H_head', 'v157', 'v158',\n",
       "       'v159', 'wealth_Index', 'total_children_ever_born',\n",
       "       'currently_pregnant', 'No_of_living_children', 'v312', 'v463a', 'v501',\n",
       "       'number_of_other_wives', 'marital_duration', 'v621',\n",
       "       'husband_education', 'husbands_occupation', 'v714', 'v716', 'v730',\n",
       "       'v743a', 'v743b', 'v743d', 'v743f', 'v744a', 'v744b', 'v744c', 'v744e',\n",
       "       'v745a', 'v745b', 'v822', 'v850a', 'd101a', 'd101b', 'd101c', 'd101d',\n",
       "       'd101e', 'husband_drinks_alcohol', 'd121', 'wife_afraid_hasband',\n",
       "       'ipv'],\n",
       "      dtype='object')"
      ]
     },
     "execution_count": 462,
     "metadata": {},
     "output_type": "execute_result"
    }
   ],
   "source": [
    "ds.columns"
   ]
  },
  {
   "cell_type": "code",
   "execution_count": 463,
   "metadata": {},
   "outputs": [
    {
     "data": {
      "text/plain": [
       "women_age                      0\n",
       "region                         0\n",
       "residence                      0\n",
       "v106                           0\n",
       "religion                       0\n",
       "ethnicity                      0\n",
       "no_of_H_members                0\n",
       "v137                           0\n",
       "v150                           0\n",
       "v151                           0\n",
       "age_H_head                     0\n",
       "v157                           0\n",
       "v158                           0\n",
       "v159                           0\n",
       "wealth_Index                   0\n",
       "total_children_ever_born       0\n",
       "currently_pregnant             0\n",
       "No_of_living_children          0\n",
       "v312                           0\n",
       "v463a                          0\n",
       "v501                           0\n",
       "number_of_other_wives          0\n",
       "marital_duration               0\n",
       "v621                        1281\n",
       "husband_education              0\n",
       "husbands_occupation            0\n",
       "v714                           0\n",
       "v716                           0\n",
       "v730                           0\n",
       "v743a                          0\n",
       "v743b                          0\n",
       "v743d                          0\n",
       "v743f                          0\n",
       "v744a                          0\n",
       "v744b                          0\n",
       "v744c                          0\n",
       "v744e                          0\n",
       "v745a                          0\n",
       "v745b                          0\n",
       "v822                           0\n",
       "v850a                          0\n",
       "d101a                          0\n",
       "d101b                          0\n",
       "d101c                          0\n",
       "d101d                          0\n",
       "d101e                          0\n",
       "husband_drinks_alcohol         1\n",
       "d121                           4\n",
       "wife_afraid_hasband            2\n",
       "ipv                            0\n",
       "dtype: int64"
      ]
     },
     "execution_count": 463,
     "metadata": {},
     "output_type": "execute_result"
    }
   ],
   "source": [
    "ds.isnull().sum()"
   ]
  },
  {
   "cell_type": "code",
   "execution_count": 464,
   "metadata": {},
   "outputs": [
    {
     "data": {
      "text/plain": [
       "1"
      ]
     },
     "execution_count": 464,
     "metadata": {},
     "output_type": "execute_result"
    }
   ],
   "source": [
    "ds['husband_drinks_alcohol'].isnull().sum()"
   ]
  },
  {
   "cell_type": "code",
   "execution_count": 465,
   "metadata": {},
   "outputs": [],
   "source": [
    "ds['husband_drinks_alcohol'] = ds['husband_drinks_alcohol'].fillna(ds['husband_drinks_alcohol'].mode()[0]) "
   ]
  },
  {
   "cell_type": "code",
   "execution_count": 466,
   "metadata": {},
   "outputs": [],
   "source": [
    "ds['d121'] = ds['d121'].fillna(ds['d121'].mode()[0]) "
   ]
  },
  {
   "cell_type": "code",
   "execution_count": 467,
   "metadata": {},
   "outputs": [],
   "source": [
    "ds['wife_afraid_hasband'] = ds['wife_afraid_hasband'].fillna(ds['wife_afraid_hasband'].mode()[0]) "
   ]
  },
  {
   "cell_type": "code",
   "execution_count": 468,
   "metadata": {},
   "outputs": [
    {
     "data": {
      "text/plain": [
       "1281"
      ]
     },
     "execution_count": 468,
     "metadata": {},
     "output_type": "execute_result"
    }
   ],
   "source": [
    "ds['v621'].isnull().sum()"
   ]
  },
  {
   "cell_type": "code",
   "execution_count": 469,
   "metadata": {},
   "outputs": [],
   "source": [
    "ds['v621'] = ds['v621'].fillna(ds['v621'].mode()[0])"
   ]
  },
  {
   "cell_type": "code",
   "execution_count": 470,
   "metadata": {},
   "outputs": [
    {
     "data": {
      "text/plain": [
       "0"
      ]
     },
     "execution_count": 470,
     "metadata": {},
     "output_type": "execute_result"
    }
   ],
   "source": [
    "ds['v621'].isnull().sum()"
   ]
  },
  {
   "cell_type": "code",
   "execution_count": 471,
   "metadata": {},
   "outputs": [
    {
     "data": {
      "text/plain": [
       "Index(['women_age', 'region', 'residence', 'v106', 'religion', 'ethnicity',\n",
       "       'no_of_H_members', 'v137', 'v150', 'v151', 'age_H_head', 'v157', 'v158',\n",
       "       'v159', 'wealth_Index', 'total_children_ever_born',\n",
       "       'currently_pregnant', 'No_of_living_children', 'v312', 'v463a', 'v501',\n",
       "       'number_of_other_wives', 'marital_duration', 'v621',\n",
       "       'husband_education', 'husbands_occupation', 'v714', 'v716', 'v730',\n",
       "       'v743a', 'v743b', 'v743d', 'v743f', 'v744a', 'v744b', 'v744c', 'v744e',\n",
       "       'v745a', 'v745b', 'v822', 'v850a', 'd101a', 'd101b', 'd101c', 'd101d',\n",
       "       'd101e', 'husband_drinks_alcohol', 'd121', 'wife_afraid_hasband',\n",
       "       'ipv'],\n",
       "      dtype='object')"
      ]
     },
     "execution_count": 471,
     "metadata": {},
     "output_type": "execute_result"
    }
   ],
   "source": [
    "ds.columns"
   ]
  },
  {
   "cell_type": "code",
   "execution_count": 476,
   "metadata": {},
   "outputs": [
    {
     "data": {
      "text/plain": [
       "women_age                   0\n",
       "region                      0\n",
       "residence                   0\n",
       "v106                        0\n",
       "religion                    0\n",
       "ethnicity                   0\n",
       "no_of_H_members             0\n",
       "v137                        0\n",
       "v150                        0\n",
       "v151                        0\n",
       "age_H_head                  0\n",
       "v157                        0\n",
       "v158                        0\n",
       "v159                        0\n",
       "wealth_Index                0\n",
       "total_children_ever_born    0\n",
       "currently_pregnant          0\n",
       "No_of_living_children       0\n",
       "v312                        0\n",
       "v463a                       0\n",
       "v501                        0\n",
       "number_of_other_wives       0\n",
       "marital_duration            0\n",
       "v621                        0\n",
       "husband_education           0\n",
       "husbands_occupation         0\n",
       "v714                        0\n",
       "v716                        0\n",
       "v730                        0\n",
       "v743a                       0\n",
       "v743b                       0\n",
       "v743d                       0\n",
       "v743f                       0\n",
       "v744a                       0\n",
       "v744b                       0\n",
       "v744c                       0\n",
       "v744e                       0\n",
       "v745a                       0\n",
       "v745b                       0\n",
       "v822                        0\n",
       "v850a                       0\n",
       "d101a                       0\n",
       "d101b                       0\n",
       "d101c                       0\n",
       "d101d                       0\n",
       "d101e                       0\n",
       "husband_drinks_alcohol      0\n",
       "d121                        0\n",
       "wife_afraid_hasband         0\n",
       "ipv                         0\n",
       "dtype: int64"
      ]
     },
     "execution_count": 476,
     "metadata": {},
     "output_type": "execute_result"
    }
   ],
   "source": [
    "ds.isnull().sum()"
   ]
  },
  {
   "cell_type": "code",
   "execution_count": 481,
   "metadata": {},
   "outputs": [
    {
     "data": {
      "text/html": [
       "<div>\n",
       "<style scoped>\n",
       "    .dataframe tbody tr th:only-of-type {\n",
       "        vertical-align: middle;\n",
       "    }\n",
       "\n",
       "    .dataframe tbody tr th {\n",
       "        vertical-align: top;\n",
       "    }\n",
       "\n",
       "    .dataframe thead th {\n",
       "        text-align: right;\n",
       "    }\n",
       "</style>\n",
       "<table border=\"1\" class=\"dataframe\">\n",
       "  <thead>\n",
       "    <tr style=\"text-align: right;\">\n",
       "      <th></th>\n",
       "      <th>women_age</th>\n",
       "      <th>region</th>\n",
       "      <th>residence</th>\n",
       "      <th>v106</th>\n",
       "      <th>religion</th>\n",
       "      <th>ethnicity</th>\n",
       "      <th>no_of_H_members</th>\n",
       "      <th>v137</th>\n",
       "      <th>v150</th>\n",
       "      <th>v151</th>\n",
       "      <th>...</th>\n",
       "      <th>v850a</th>\n",
       "      <th>d101a</th>\n",
       "      <th>d101b</th>\n",
       "      <th>d101c</th>\n",
       "      <th>d101d</th>\n",
       "      <th>d101e</th>\n",
       "      <th>husband_drinks_alcohol</th>\n",
       "      <th>d121</th>\n",
       "      <th>wife_afraid_hasband</th>\n",
       "      <th>ipv</th>\n",
       "    </tr>\n",
       "  </thead>\n",
       "  <tbody>\n",
       "    <tr>\n",
       "      <th>0</th>\n",
       "      <td>4</td>\n",
       "      <td>4</td>\n",
       "      <td>2</td>\n",
       "      <td>0</td>\n",
       "      <td>4</td>\n",
       "      <td>2</td>\n",
       "      <td>3</td>\n",
       "      <td>1</td>\n",
       "      <td>10</td>\n",
       "      <td>2</td>\n",
       "      <td>...</td>\n",
       "      <td>0</td>\n",
       "      <td>0</td>\n",
       "      <td>0</td>\n",
       "      <td>0</td>\n",
       "      <td>0</td>\n",
       "      <td>0</td>\n",
       "      <td>0</td>\n",
       "      <td>0</td>\n",
       "      <td>2</td>\n",
       "      <td>0</td>\n",
       "    </tr>\n",
       "    <tr>\n",
       "      <th>1</th>\n",
       "      <td>4</td>\n",
       "      <td>4</td>\n",
       "      <td>2</td>\n",
       "      <td>0</td>\n",
       "      <td>4</td>\n",
       "      <td>2</td>\n",
       "      <td>7</td>\n",
       "      <td>3</td>\n",
       "      <td>2</td>\n",
       "      <td>1</td>\n",
       "      <td>...</td>\n",
       "      <td>0</td>\n",
       "      <td>0</td>\n",
       "      <td>0</td>\n",
       "      <td>0</td>\n",
       "      <td>0</td>\n",
       "      <td>0</td>\n",
       "      <td>0</td>\n",
       "      <td>0</td>\n",
       "      <td>2</td>\n",
       "      <td>0</td>\n",
       "    </tr>\n",
       "    <tr>\n",
       "      <th>2</th>\n",
       "      <td>7</td>\n",
       "      <td>4</td>\n",
       "      <td>2</td>\n",
       "      <td>0</td>\n",
       "      <td>4</td>\n",
       "      <td>2</td>\n",
       "      <td>5</td>\n",
       "      <td>0</td>\n",
       "      <td>2</td>\n",
       "      <td>1</td>\n",
       "      <td>...</td>\n",
       "      <td>1</td>\n",
       "      <td>0</td>\n",
       "      <td>0</td>\n",
       "      <td>0</td>\n",
       "      <td>0</td>\n",
       "      <td>0</td>\n",
       "      <td>0</td>\n",
       "      <td>0</td>\n",
       "      <td>2</td>\n",
       "      <td>0</td>\n",
       "    </tr>\n",
       "    <tr>\n",
       "      <th>3</th>\n",
       "      <td>3</td>\n",
       "      <td>4</td>\n",
       "      <td>2</td>\n",
       "      <td>1</td>\n",
       "      <td>4</td>\n",
       "      <td>2</td>\n",
       "      <td>5</td>\n",
       "      <td>1</td>\n",
       "      <td>2</td>\n",
       "      <td>1</td>\n",
       "      <td>...</td>\n",
       "      <td>0</td>\n",
       "      <td>0</td>\n",
       "      <td>0</td>\n",
       "      <td>0</td>\n",
       "      <td>0</td>\n",
       "      <td>1</td>\n",
       "      <td>0</td>\n",
       "      <td>0</td>\n",
       "      <td>0</td>\n",
       "      <td>0</td>\n",
       "    </tr>\n",
       "    <tr>\n",
       "      <th>4</th>\n",
       "      <td>3</td>\n",
       "      <td>4</td>\n",
       "      <td>2</td>\n",
       "      <td>1</td>\n",
       "      <td>4</td>\n",
       "      <td>2</td>\n",
       "      <td>4</td>\n",
       "      <td>2</td>\n",
       "      <td>2</td>\n",
       "      <td>1</td>\n",
       "      <td>...</td>\n",
       "      <td>1</td>\n",
       "      <td>0</td>\n",
       "      <td>0</td>\n",
       "      <td>0</td>\n",
       "      <td>0</td>\n",
       "      <td>0</td>\n",
       "      <td>0</td>\n",
       "      <td>0</td>\n",
       "      <td>2</td>\n",
       "      <td>0</td>\n",
       "    </tr>\n",
       "    <tr>\n",
       "      <th>...</th>\n",
       "      <td>...</td>\n",
       "      <td>...</td>\n",
       "      <td>...</td>\n",
       "      <td>...</td>\n",
       "      <td>...</td>\n",
       "      <td>...</td>\n",
       "      <td>...</td>\n",
       "      <td>...</td>\n",
       "      <td>...</td>\n",
       "      <td>...</td>\n",
       "      <td>...</td>\n",
       "      <td>...</td>\n",
       "      <td>...</td>\n",
       "      <td>...</td>\n",
       "      <td>...</td>\n",
       "      <td>...</td>\n",
       "      <td>...</td>\n",
       "      <td>...</td>\n",
       "      <td>...</td>\n",
       "      <td>...</td>\n",
       "      <td>...</td>\n",
       "    </tr>\n",
       "    <tr>\n",
       "      <th>10764</th>\n",
       "      <td>4</td>\n",
       "      <td>5</td>\n",
       "      <td>2</td>\n",
       "      <td>1</td>\n",
       "      <td>2</td>\n",
       "      <td>2</td>\n",
       "      <td>6</td>\n",
       "      <td>0</td>\n",
       "      <td>2</td>\n",
       "      <td>1</td>\n",
       "      <td>...</td>\n",
       "      <td>1</td>\n",
       "      <td>0</td>\n",
       "      <td>0</td>\n",
       "      <td>0</td>\n",
       "      <td>0</td>\n",
       "      <td>0</td>\n",
       "      <td>0</td>\n",
       "      <td>0</td>\n",
       "      <td>0</td>\n",
       "      <td>0</td>\n",
       "    </tr>\n",
       "    <tr>\n",
       "      <th>10765</th>\n",
       "      <td>2</td>\n",
       "      <td>5</td>\n",
       "      <td>2</td>\n",
       "      <td>1</td>\n",
       "      <td>2</td>\n",
       "      <td>2</td>\n",
       "      <td>3</td>\n",
       "      <td>1</td>\n",
       "      <td>2</td>\n",
       "      <td>1</td>\n",
       "      <td>...</td>\n",
       "      <td>1</td>\n",
       "      <td>0</td>\n",
       "      <td>0</td>\n",
       "      <td>0</td>\n",
       "      <td>0</td>\n",
       "      <td>0</td>\n",
       "      <td>1</td>\n",
       "      <td>0</td>\n",
       "      <td>2</td>\n",
       "      <td>0</td>\n",
       "    </tr>\n",
       "    <tr>\n",
       "      <th>10766</th>\n",
       "      <td>6</td>\n",
       "      <td>5</td>\n",
       "      <td>2</td>\n",
       "      <td>2</td>\n",
       "      <td>2</td>\n",
       "      <td>5</td>\n",
       "      <td>4</td>\n",
       "      <td>0</td>\n",
       "      <td>1</td>\n",
       "      <td>2</td>\n",
       "      <td>...</td>\n",
       "      <td>1</td>\n",
       "      <td>1</td>\n",
       "      <td>8</td>\n",
       "      <td>1</td>\n",
       "      <td>1</td>\n",
       "      <td>1</td>\n",
       "      <td>1</td>\n",
       "      <td>0</td>\n",
       "      <td>1</td>\n",
       "      <td>3</td>\n",
       "    </tr>\n",
       "    <tr>\n",
       "      <th>10767</th>\n",
       "      <td>3</td>\n",
       "      <td>5</td>\n",
       "      <td>2</td>\n",
       "      <td>2</td>\n",
       "      <td>2</td>\n",
       "      <td>2</td>\n",
       "      <td>4</td>\n",
       "      <td>1</td>\n",
       "      <td>2</td>\n",
       "      <td>1</td>\n",
       "      <td>...</td>\n",
       "      <td>1</td>\n",
       "      <td>1</td>\n",
       "      <td>1</td>\n",
       "      <td>0</td>\n",
       "      <td>0</td>\n",
       "      <td>1</td>\n",
       "      <td>0</td>\n",
       "      <td>1</td>\n",
       "      <td>2</td>\n",
       "      <td>2</td>\n",
       "    </tr>\n",
       "    <tr>\n",
       "      <th>10768</th>\n",
       "      <td>3</td>\n",
       "      <td>5</td>\n",
       "      <td>2</td>\n",
       "      <td>1</td>\n",
       "      <td>2</td>\n",
       "      <td>7</td>\n",
       "      <td>5</td>\n",
       "      <td>3</td>\n",
       "      <td>2</td>\n",
       "      <td>1</td>\n",
       "      <td>...</td>\n",
       "      <td>0</td>\n",
       "      <td>1</td>\n",
       "      <td>1</td>\n",
       "      <td>0</td>\n",
       "      <td>0</td>\n",
       "      <td>0</td>\n",
       "      <td>0</td>\n",
       "      <td>1</td>\n",
       "      <td>2</td>\n",
       "      <td>0</td>\n",
       "    </tr>\n",
       "  </tbody>\n",
       "</table>\n",
       "<p>10769 rows × 50 columns</p>\n",
       "</div>"
      ],
      "text/plain": [
       "       women_age  region  residence  v106  religion  ethnicity  \\\n",
       "0              4       4          2     0         4          2   \n",
       "1              4       4          2     0         4          2   \n",
       "2              7       4          2     0         4          2   \n",
       "3              3       4          2     1         4          2   \n",
       "4              3       4          2     1         4          2   \n",
       "...          ...     ...        ...   ...       ...        ...   \n",
       "10764          4       5          2     1         2          2   \n",
       "10765          2       5          2     1         2          2   \n",
       "10766          6       5          2     2         2          5   \n",
       "10767          3       5          2     2         2          2   \n",
       "10768          3       5          2     1         2          7   \n",
       "\n",
       "       no_of_H_members  v137  v150  v151  ...  v850a  d101a  d101b  d101c  \\\n",
       "0                    3     1    10     2  ...      0      0      0      0   \n",
       "1                    7     3     2     1  ...      0      0      0      0   \n",
       "2                    5     0     2     1  ...      1      0      0      0   \n",
       "3                    5     1     2     1  ...      0      0      0      0   \n",
       "4                    4     2     2     1  ...      1      0      0      0   \n",
       "...                ...   ...   ...   ...  ...    ...    ...    ...    ...   \n",
       "10764                6     0     2     1  ...      1      0      0      0   \n",
       "10765                3     1     2     1  ...      1      0      0      0   \n",
       "10766                4     0     1     2  ...      1      1      8      1   \n",
       "10767                4     1     2     1  ...      1      1      1      0   \n",
       "10768                5     3     2     1  ...      0      1      1      0   \n",
       "\n",
       "       d101d  d101e  husband_drinks_alcohol  d121  wife_afraid_hasband  ipv  \n",
       "0          0      0                       0     0                    2    0  \n",
       "1          0      0                       0     0                    2    0  \n",
       "2          0      0                       0     0                    2    0  \n",
       "3          0      1                       0     0                    0    0  \n",
       "4          0      0                       0     0                    2    0  \n",
       "...      ...    ...                     ...   ...                  ...  ...  \n",
       "10764      0      0                       0     0                    0    0  \n",
       "10765      0      0                       1     0                    2    0  \n",
       "10766      1      1                       1     0                    1    3  \n",
       "10767      0      1                       0     1                    2    2  \n",
       "10768      0      0                       0     1                    2    0  \n",
       "\n",
       "[10769 rows x 50 columns]"
      ]
     },
     "execution_count": 481,
     "metadata": {},
     "output_type": "execute_result"
    }
   ],
   "source": [
    "ds.astype('int64')"
   ]
  },
  {
   "cell_type": "code",
   "execution_count": 482,
   "metadata": {},
   "outputs": [
    {
     "data": {
      "text/plain": [
       "women_age                     int64\n",
       "region                        int64\n",
       "residence                     int64\n",
       "v106                          int64\n",
       "religion                      int64\n",
       "ethnicity                   float64\n",
       "no_of_H_members               int64\n",
       "v137                          int64\n",
       "v150                          int64\n",
       "v151                          int64\n",
       "age_H_head                    int64\n",
       "v157                        float64\n",
       "v158                          int64\n",
       "v159                        float64\n",
       "wealth_Index                  int64\n",
       "total_children_ever_born      int64\n",
       "currently_pregnant            int64\n",
       "No_of_living_children         int64\n",
       "v312                          int64\n",
       "v463a                       float64\n",
       "v501                          int64\n",
       "number_of_other_wives       float64\n",
       "marital_duration              int64\n",
       "v621                        float64\n",
       "husband_education           float64\n",
       "husbands_occupation         float64\n",
       "v714                        float64\n",
       "v716                        float64\n",
       "v730                        float64\n",
       "v743a                       float64\n",
       "v743b                       float64\n",
       "v743d                       float64\n",
       "v743f                       float64\n",
       "v744a                       float64\n",
       "v744b                       float64\n",
       "v744c                       float64\n",
       "v744e                       float64\n",
       "v745a                       float64\n",
       "v745b                       float64\n",
       "v822                        float64\n",
       "v850a                       float64\n",
       "d101a                         int64\n",
       "d101b                       float64\n",
       "d101c                       float64\n",
       "d101d                       float64\n",
       "d101e                         int64\n",
       "husband_drinks_alcohol      float64\n",
       "d121                        float64\n",
       "wife_afraid_hasband         float64\n",
       "ipv                           int64\n",
       "dtype: object"
      ]
     },
     "execution_count": 482,
     "metadata": {},
     "output_type": "execute_result"
    }
   ],
   "source": [
    "ds.dtypes"
   ]
  },
  {
   "cell_type": "code",
   "execution_count": 505,
   "metadata": {},
   "outputs": [],
   "source": [
    "ds[\"ethnicity\"] = ds[\"ethnicity\"].astype(\"int64\")"
   ]
  },
  {
   "cell_type": "code",
   "execution_count": 506,
   "metadata": {},
   "outputs": [],
   "source": [
    "ds[\"v157\"] = ds[\"v157\"].astype(\"int64\")"
   ]
  },
  {
   "cell_type": "code",
   "execution_count": 507,
   "metadata": {},
   "outputs": [],
   "source": [
    "ds[\"v159\"] = ds[\"v159\"].astype(\"int64\")"
   ]
  },
  {
   "cell_type": "code",
   "execution_count": 508,
   "metadata": {},
   "outputs": [],
   "source": [
    "ds[\"v463a\"] = ds[\"v463a\"].astype(\"int64\")"
   ]
  },
  {
   "cell_type": "code",
   "execution_count": 509,
   "metadata": {},
   "outputs": [],
   "source": [
    "ds['number_of_other_wives'] = ds['number_of_other_wives'].astype('int64')"
   ]
  },
  {
   "cell_type": "code",
   "execution_count": 510,
   "metadata": {},
   "outputs": [],
   "source": [
    "ds['v621'] = ds['v621'].astype('int64')"
   ]
  },
  {
   "cell_type": "code",
   "execution_count": 511,
   "metadata": {},
   "outputs": [],
   "source": [
    "ds['husband_education'] = ds['husband_education'].astype('int64')"
   ]
  },
  {
   "cell_type": "code",
   "execution_count": 512,
   "metadata": {},
   "outputs": [],
   "source": [
    "ds['husbands_occupation'] = ds['husbands_occupation'].astype('int64')"
   ]
  },
  {
   "cell_type": "code",
   "execution_count": 513,
   "metadata": {},
   "outputs": [],
   "source": [
    "ds['v714'] = ds['v714'].astype('int64')"
   ]
  },
  {
   "cell_type": "code",
   "execution_count": 514,
   "metadata": {},
   "outputs": [],
   "source": [
    "ds['v716'] = ds['v716'].astype('int64')"
   ]
  },
  {
   "cell_type": "code",
   "execution_count": 515,
   "metadata": {},
   "outputs": [],
   "source": [
    "ds['v743a'] = ds['v743a'].astype('int64')"
   ]
  },
  {
   "cell_type": "code",
   "execution_count": 516,
   "metadata": {},
   "outputs": [],
   "source": [
    "ds['v743b'] = ds['v743b'].astype('int64')"
   ]
  },
  {
   "cell_type": "code",
   "execution_count": 517,
   "metadata": {},
   "outputs": [],
   "source": [
    "ds['v743d'] = ds['v743d'].astype('int64')"
   ]
  },
  {
   "cell_type": "code",
   "execution_count": 518,
   "metadata": {},
   "outputs": [],
   "source": [
    "ds['v743f'] = ds['v743f'].astype('int64')"
   ]
  },
  {
   "cell_type": "code",
   "execution_count": 519,
   "metadata": {},
   "outputs": [],
   "source": [
    "ds['v744a'] = ds['v744a'].astype('int64')"
   ]
  },
  {
   "cell_type": "code",
   "execution_count": 520,
   "metadata": {},
   "outputs": [],
   "source": [
    "ds['v744b'] = ds['v744b'].astype('int64')"
   ]
  },
  {
   "cell_type": "code",
   "execution_count": 521,
   "metadata": {},
   "outputs": [],
   "source": [
    "ds['v744c'] = ds['v744c'].astype('int64')"
   ]
  },
  {
   "cell_type": "code",
   "execution_count": 522,
   "metadata": {},
   "outputs": [],
   "source": [
    "ds['v744e'] = ds['v744e'].astype('int64')"
   ]
  },
  {
   "cell_type": "code",
   "execution_count": 523,
   "metadata": {},
   "outputs": [],
   "source": [
    "ds['v745a'] = ds['v745a'].astype('int64')"
   ]
  },
  {
   "cell_type": "code",
   "execution_count": 524,
   "metadata": {},
   "outputs": [],
   "source": [
    "ds['v745b'] = ds['v745b'].astype('int64')"
   ]
  },
  {
   "cell_type": "code",
   "execution_count": 525,
   "metadata": {},
   "outputs": [],
   "source": [
    "ds['v822'] = ds['v822'].astype('int64')"
   ]
  },
  {
   "cell_type": "code",
   "execution_count": 526,
   "metadata": {},
   "outputs": [],
   "source": [
    "ds['v850a'] = ds['v850a'].astype('int64')"
   ]
  },
  {
   "cell_type": "code",
   "execution_count": 527,
   "metadata": {},
   "outputs": [],
   "source": [
    "ds['d101a'] = ds['d101a'].astype('int64')"
   ]
  },
  {
   "cell_type": "code",
   "execution_count": 528,
   "metadata": {},
   "outputs": [],
   "source": [
    "ds['d101b'] = ds['d101b'].astype('int64')"
   ]
  },
  {
   "cell_type": "code",
   "execution_count": 529,
   "metadata": {},
   "outputs": [],
   "source": [
    "ds['d101c'] = ds['d101c'].astype('int64')"
   ]
  },
  {
   "cell_type": "code",
   "execution_count": 531,
   "metadata": {},
   "outputs": [],
   "source": [
    "ds['d101d'] = ds['d101d'].astype('int64')"
   ]
  },
  {
   "cell_type": "code",
   "execution_count": 532,
   "metadata": {},
   "outputs": [],
   "source": [
    "ds['d101e'] = ds['d101e'].astype('int64')"
   ]
  },
  {
   "cell_type": "code",
   "execution_count": 533,
   "metadata": {},
   "outputs": [],
   "source": [
    "ds['husband_drinks_alcohol'] = ds['husband_drinks_alcohol'].astype('int64')"
   ]
  },
  {
   "cell_type": "code",
   "execution_count": 534,
   "metadata": {},
   "outputs": [],
   "source": [
    "ds['d121'] = ds['d121'].astype('int64')"
   ]
  },
  {
   "cell_type": "code",
   "execution_count": 535,
   "metadata": {},
   "outputs": [],
   "source": [
    "ds['wife_afraid_hasband'] = ds['wife_afraid_hasband'].astype('int64')"
   ]
  },
  {
   "cell_type": "code",
   "execution_count": null,
   "metadata": {},
   "outputs": [],
   "source": []
  },
  {
   "cell_type": "code",
   "execution_count": 497,
   "metadata": {},
   "outputs": [],
   "source": [
    "ds.dtypes\n",
    "for x in ds:\n",
    "    if ds[x].dtypes == \"float\":\n",
    "        ds[x] = ds[x].astype(\"int64\")\n",
    "        "
   ]
  },
  {
   "cell_type": "code",
   "execution_count": 536,
   "metadata": {},
   "outputs": [
    {
     "data": {
      "text/plain": [
       "women_age                   int64\n",
       "region                      int64\n",
       "residence                   int64\n",
       "v106                        int64\n",
       "religion                    int64\n",
       "ethnicity                   int64\n",
       "no_of_H_members             int64\n",
       "v137                        int64\n",
       "v150                        int64\n",
       "v151                        int64\n",
       "age_H_head                  int64\n",
       "v157                        int64\n",
       "v158                        int64\n",
       "v159                        int64\n",
       "wealth_Index                int64\n",
       "total_children_ever_born    int64\n",
       "currently_pregnant          int64\n",
       "No_of_living_children       int64\n",
       "v312                        int64\n",
       "v463a                       int64\n",
       "v501                        int64\n",
       "number_of_other_wives       int64\n",
       "marital_duration            int64\n",
       "v621                        int64\n",
       "husband_education           int64\n",
       "husbands_occupation         int64\n",
       "v714                        int64\n",
       "v716                        int64\n",
       "v730                        int32\n",
       "v743a                       int64\n",
       "v743b                       int64\n",
       "v743d                       int64\n",
       "v743f                       int64\n",
       "v744a                       int64\n",
       "v744b                       int64\n",
       "v744c                       int64\n",
       "v744e                       int64\n",
       "v745a                       int64\n",
       "v745b                       int64\n",
       "v822                        int64\n",
       "v850a                       int64\n",
       "d101a                       int64\n",
       "d101b                       int64\n",
       "d101c                       int64\n",
       "d101d                       int64\n",
       "d101e                       int64\n",
       "husband_drinks_alcohol      int64\n",
       "d121                        int64\n",
       "wife_afraid_hasband         int64\n",
       "ipv                         int64\n",
       "dtype: object"
      ]
     },
     "execution_count": 536,
     "metadata": {},
     "output_type": "execute_result"
    }
   ],
   "source": [
    "ds.dtypes"
   ]
  },
  {
   "cell_type": "code",
   "execution_count": 538,
   "metadata": {},
   "outputs": [
    {
     "name": "stdout",
     "output_type": "stream",
     "text": [
      "women_age  == >>  [4 7 3 6 5 2 1]\n",
      "region  == >>  [ 4  5  3  2 11  6  7  8 10  9  1]\n",
      "residence  == >>  [2 1]\n",
      "v106  == >>  [0 1 2 3]\n",
      "religion  == >>  [ 4  1  2  3  5 96]\n",
      "ethnicity  == >>  [ 2  5  1  4 10 99 96  7 16 15  6  3  9 38 18 12 73 13 11 14 75  8 34 35\n",
      " 19 20 72 71 85 17 53 64 59 24 43 22 33 76 28 47 30 44 93 21]\n",
      "no_of_H_members  == >>  [ 3  7  5  4  8 10  6  2  9 12  1 11 13 15 14 16 17 19]\n",
      "v137  == >>  [1 3 0 2 4 5 6]\n",
      "v150  == >>  [10  2  1  3 11  4  5 12  8  6  7]\n",
      "v151  == >>  [2 1]\n",
      "age_H_head  == >>  [60 43 55 35 30 36 49 47 42 22 25 62 38 40 20 27 65 83 34 24 19 44 28 46\n",
      " 18 32 50 37 53 26 48 41 80 29 45 33 31 39 63 76 21 54 64 61 23 70 79 85\n",
      " 57 68 69 56 88 67 58 51 59 52 73 78 87 71 72 17 98 66 75 82 90 81 16 15\n",
      " 84 77 91 93 86 74 95 89 94]\n",
      "v157  == >>  [0 1 2]\n",
      "v158  == >>  [0 2 1]\n",
      "v159  == >>  [0 1 2]\n",
      "wealth_Index  == >>  [2 1 3 4 5]\n",
      "total_children_ever_born  == >>  [ 4  5  7  0  2  3  6  8  1 11 12 10  9 13 14 15]\n",
      "currently_pregnant  == >>  [1 0]\n",
      "No_of_living_children  == >>  [ 4  5  7  0  2  3  6  8  1  9 10 11 12]\n",
      "v312  == >>  [ 0  3  2 11 16  1  8  6 13  9  5 18 10 14  7]\n",
      "v463a  == >>  [0 1]\n",
      "v501  == >>  [1 4 2 3 5]\n",
      "number_of_other_wives  == >>  [ 0  1  2  6  3 98  4  5 13]\n",
      "marital_duration  == >>  [18 23 13 21 19 15 20 26 17 16 10 12 14 11 24 28 31 25 22 27 29 34 37 30\n",
      " 42 43 36 33 32 35 39 38 41 40]\n",
      "v621  == >>  [1 2 8 3]\n",
      "husband_education  == >>  [0 2 1 8 3]\n",
      "husbands_occupation  == >>  [   63    51     0    33    54    73    61    92    83    75    52    23\n",
      " 99998    96    26    12    95    93    31    74    36    43    71    42\n",
      "    44    72     2     3    14    32    24    53    34    91    21    22\n",
      "    11    82    35    81    62    41    39    88    76    28    87    77\n",
      "    25    13    29    15    37    78    89    27     1    85    84    86\n",
      "    65    64]\n",
      "v714  == >>  [0 1]\n",
      "v716  == >>  [ 0 52 75 63 73 61 96 92 51 53 62 93 36 34 41 91 74 42 26 23 54 32 33 25\n",
      " 44 24 22 71 72 81 82 21 43 12 95 35 14 83 94 77 37 39 31 28 15 13 76 89\n",
      " 11 86 87 29 78 88 27 65]\n",
      "v730  == >>  [42 43 55 35 30 36 49 47 23 40 25 32 38 48 34 56 37 28 41 21 68 22 65 63\n",
      " 50 60 44 45 75 18 26 29 64 27 52 53 57 95 33 39 76 19 24 61 74 62 31 80\n",
      " 46 54 16 70 69 67 58 15 66 51 85 20 78 87 71 59 72 90 84 77 86 17 93 73\n",
      " 81 94]\n",
      "v743a  == >>  [4 2 1 6 5]\n",
      "v743b  == >>  [4 2 1 5 6]\n",
      "v743d  == >>  [4 1 2 6 5]\n",
      "v743f  == >>  [4 2 1 7 6]\n",
      "v744a  == >>  [1 0 8]\n",
      "v744b  == >>  [1 0 8]\n",
      "v744c  == >>  [1 0 8]\n",
      "v744e  == >>  [1 0 8]\n",
      "v745a  == >>  [2 1 0 3]\n",
      "v745b  == >>  [2 1 0 3]\n",
      "v822  == >>  [0 1 8]\n",
      "v850a  == >>  [0 1 8]\n",
      "d101a  == >>  [0 1 8]\n",
      "d101b  == >>  [0 1 8]\n",
      "d101c  == >>  [0 1 8]\n",
      "d101d  == >>  [0 1 8]\n",
      "d101e  == >>  [0 1 8]\n",
      "husband_drinks_alcohol  == >>  [0 1]\n",
      "d121  == >>  [0 1 8]\n",
      "wife_afraid_hasband  == >>  [2 0 1]\n",
      "ipv  == >>  [0 1 2 3 4]\n"
     ]
    }
   ],
   "source": [
    "# Enumerate Function in Python to check unickness of  all columns \n",
    "\n",
    "for l, k in enumerate(ds.columns):\n",
    "      print(k, ' == >> ',ds[k].unique())"
   ]
  },
  {
   "cell_type": "code",
   "execution_count": null,
   "metadata": {},
   "outputs": [],
   "source": []
  },
  {
   "cell_type": "code",
   "execution_count": 539,
   "metadata": {},
   "outputs": [],
   "source": [
    "#ds.to_csv(\"c:/users/administrator/desktop/update/preprocessed.csv\")"
   ]
  },
  {
   "cell_type": "code",
   "execution_count": 294,
   "metadata": {},
   "outputs": [],
   "source": [
    "ds=pd.read_csv(\"c:/users/administrator/desktop/update/preprocessed.csv\")"
   ]
  },
  {
   "cell_type": "code",
   "execution_count": 295,
   "metadata": {},
   "outputs": [],
   "source": [
    "#ds.isnull().sum()"
   ]
  },
  {
   "cell_type": "code",
   "execution_count": 296,
   "metadata": {},
   "outputs": [],
   "source": [
    "#ds.dtypes"
   ]
  },
  {
   "cell_type": "markdown",
   "metadata": {},
   "source": [
    "#### Named all Columns"
   ]
  },
  {
   "cell_type": "code",
   "execution_count": 297,
   "metadata": {},
   "outputs": [],
   "source": [
    "ds = ds.rename(columns={ 'v106': 'woman_education', 'v137': 'no_of_children_Un_5',\n",
    "                       'v157': 'fre_reading_newspaper','v158':'frequency_listning_radio','v159': 'fre_wathicng_television',\n",
    "                        'v463a': 'smokes_cigarettes', 'v151':'sex_HH_head','v150': 'r/n_ship_HH_head',\n",
    "                       'v501': 'current_martial_status', 'v621': 'no_family', \n",
    "                       'v714': 'wife_working_status', 'v716': 'wife_occupation',\n",
    "                       'v730': 'husband_age', 'v743a': 'husband_decides_wife_health_care', \n",
    "                       'v743b': 'husband_decides_HH_purchase', 'v743d': 'husband_decides_fimily_vist','v743f':'husband_decides_fin_activity',\n",
    "                         'v744a':'wife_goes_W_teeling_husband', 'v744b':'wife_neglects_children', 'v744c':'wife_argues_W_husband',\n",
    "                        'v744e':'wife_burns_food','v745a':'wife_owns_house','v745b':'wife_owns_land','v822':'wife_asking_use_condom_his_STIs','v850a':'wife_refuses_sex_W_husband' ,'d101a':'husband_j_wife_talks_other_men',\n",
    "                          'd101b':'husband_accuses_wif_unfaithfulness','d101c':'husband_not_permit_meet_her_friends','d101d':'husband_limit_wife_contact_family',\n",
    "                          'd101e':'husband_insists_where wife_is','d121':'wifes_familiy_violence_histrory'\n",
    "                           })\n",
    "                           "
   ]
  },
  {
   "cell_type": "code",
   "execution_count": 298,
   "metadata": {},
   "outputs": [
    {
     "data": {
      "text/plain": [
       "Index(['women_age', 'region', 'residence', 'woman_education', 'religion',\n",
       "       'ethnicity', 'no_of_H_members', 'no_of_children_Un_5',\n",
       "       'r/n_ship_HH_head', 'sex_HH_head', 'age_H_head',\n",
       "       'fre_reading_newspaper', 'frequency_listning_radio',\n",
       "       'fre_wathicng_television', 'wealth_Index', 'total_children_ever_born',\n",
       "       'currently_pregnant', 'No_of_living_children', 'smokes_cigarettes',\n",
       "       'current_martial_status', 'number_of_other_wives', 'marital_duration',\n",
       "       'no_family', 'husband_education', 'husbands_occupation',\n",
       "       'wife_working_status', 'wife_occupation', 'husband_age',\n",
       "       'husband_decides_wife_health_care', 'husband_decides_HH_purchase',\n",
       "       'husband_decides_fimily_vist', 'husband_decides_fin_activity',\n",
       "       'wife_goes_W_teeling_husband', 'wife_neglects_children',\n",
       "       'wife_argues_W_husband', 'wife_burns_food', 'wife_owns_house',\n",
       "       'wife_owns_land', 'wife_asking_use_condom_his_STIs',\n",
       "       'wife_refuses_sex_W_husband', 'husband_j_wife_talks_other_men',\n",
       "       'husband_accuses_wif_unfaithfulness',\n",
       "       'husband_not_permit_meet_her_friends',\n",
       "       'husband_limit_wife_contact_family', 'husband_insists_where wife_is',\n",
       "       'husband_drinks_alcohol', 'wifes_familiy_violence_histrory',\n",
       "       'wife_afraid_hasband', 'IPV'],\n",
       "      dtype='object')"
      ]
     },
     "execution_count": 298,
     "metadata": {},
     "output_type": "execute_result"
    }
   ],
   "source": [
    "ds.columns"
   ]
  },
  {
   "cell_type": "code",
   "execution_count": 299,
   "metadata": {},
   "outputs": [
    {
     "data": {
      "text/plain": [
       "(10769, 49)"
      ]
     },
     "execution_count": 299,
     "metadata": {},
     "output_type": "execute_result"
    }
   ],
   "source": [
    "ds.shape"
   ]
  },
  {
   "cell_type": "code",
   "execution_count": null,
   "metadata": {},
   "outputs": [],
   "source": []
  },
  {
   "cell_type": "markdown",
   "metadata": {},
   "source": []
  },
  {
   "cell_type": "markdown",
   "metadata": {},
   "source": [
    "# 3. Exploratory Data Analysis (EDA)\n",
    " Now, I will conduct exploratory data analysis to gain an insight into the dataset.\n",
    "\n",
    "\tEDA involves missing values treatment, outlier treatment, data transformation\n",
    "\n",
    "\tFeature engineering, and correlation analysis. \n",
    "\n",
    "\tAn effective EDA strategy provides highly predictive, and stable predictors from our original feature set\n",
    "\n",
    "\n",
    "\n"
   ]
  },
  {
   "cell_type": "markdown",
   "metadata": {},
   "source": [
    "***Data discritization techique using binning method***\n",
    "\n",
    "***Discretization*** involves essentially taking a set of values of data and grouping sets of them together in some logical fashion into ***bins*** (or buckets). ***Binning*** can apply to ***numerical values as well as to categorical values***. This could help prevent data from overfitting but comes at the cost of loss of granularity of data. The grouping of data can be done as follows:\n"
   ]
  },
  {
   "cell_type": "markdown",
   "metadata": {},
   "source": [
    "***Binning can apply to numerical values as well as to categorical values***.\n",
    " I have used frequency distribution binig method for data iscritization featues of \n",
    "    total_children_ever_born, no_of_H_members,religion, wealth_Index,No_of_living_children, marital_duration, no_family, husband_age"
   ]
  },
  {
   "cell_type": "code",
   "execution_count": 300,
   "metadata": {},
   "outputs": [],
   "source": [
    "ds['total_children_ever_born'] = pd.cut(x=ds['total_children_ever_born'], bins=[-1,5,10,17],labels= [0,1,2])"
   ]
  },
  {
   "cell_type": "code",
   "execution_count": 301,
   "metadata": {},
   "outputs": [
    {
     "data": {
      "text/plain": [
       "<AxesSubplot:xlabel='total_children_ever_born', ylabel='count'>"
      ]
     },
     "execution_count": 301,
     "metadata": {},
     "output_type": "execute_result"
    },
    {
     "data": {
      "image/png": "[encoded data removed]",
      "text/plain": [
       "<Figure size 432x288 with 1 Axes>"
      ]
     },
     "metadata": {},
     "output_type": "display_data"
    }
   ],
   "source": [
    "sns.countplot(ds['total_children_ever_born'])"
   ]
  },
  {
   "cell_type": "code",
   "execution_count": 302,
   "metadata": {},
   "outputs": [
    {
     "data": {
      "text/plain": [
       "4     2004\n",
       "5     1976\n",
       "3     1660\n",
       "6     1527\n",
       "7     1076\n",
       "2      920\n",
       "8      714\n",
       "9      374\n",
       "10     188\n",
       "1      172\n",
       "11      75\n",
       "12      40\n",
       "13      23\n",
       "14      10\n",
       "16       5\n",
       "15       2\n",
       "17       2\n",
       "19       1\n",
       "Name: no_of_H_members, dtype: int64"
      ]
     },
     "execution_count": 302,
     "metadata": {},
     "output_type": "execute_result"
    }
   ],
   "source": [
    "ds['no_of_H_members'].value_counts()"
   ]
  },
  {
   "cell_type": "code",
   "execution_count": 303,
   "metadata": {},
   "outputs": [],
   "source": [
    "ds['no_of_H_members'] = pd.cut(x=ds['no_of_H_members'], bins=[0,5,11,19],labels= [0,1,2])"
   ]
  },
  {
   "cell_type": "code",
   "execution_count": 304,
   "metadata": {},
   "outputs": [
    {
     "data": {
      "text/plain": [
       "<AxesSubplot:xlabel='no_of_H_members', ylabel='count'>"
      ]
     },
     "execution_count": 304,
     "metadata": {},
     "output_type": "execute_result"
    },
    {
     "data": {
      "image/png": "[encoded data removed]",
      "text/plain": [
       "<Figure size 432x288 with 1 Axes>"
      ]
     },
     "metadata": {},
     "output_type": "display_data"
    }
   ],
   "source": [
    "sns.countplot(ds['no_of_H_members'])"
   ]
  },
  {
   "cell_type": "code",
   "execution_count": 305,
   "metadata": {},
   "outputs": [
    {
     "data": {
      "text/plain": [
       "array([60, 43, 55, 35, 30, 36, 49, 47, 42, 22, 25, 62, 38, 40, 20, 27, 65,\n",
       "       83, 34, 24, 19, 44, 28, 46, 18, 32, 50, 37, 53, 26, 48, 41, 80, 29,\n",
       "       45, 33, 31, 39, 63, 76, 21, 54, 64, 61, 23, 70, 79, 85, 57, 68, 69,\n",
       "       56, 88, 67, 58, 51, 59, 52, 73, 78, 87, 71, 72, 17, 98, 66, 75, 82,\n",
       "       90, 81, 16, 15, 84, 77, 91, 93, 86, 74, 95, 89, 94], dtype=int64)"
      ]
     },
     "execution_count": 305,
     "metadata": {},
     "output_type": "execute_result"
    }
   ],
   "source": [
    "ds['age_H_head'].unique()"
   ]
  },
  {
   "cell_type": "code",
   "execution_count": 306,
   "metadata": {},
   "outputs": [],
   "source": [
    "ds['age_H_head'] = pd.cut(x=ds['age_H_head'], bins=[13,24,34, 44, 54, 64,74,84,94],labels= [0,1,2,3,4,5,6,7])"
   ]
  },
  {
   "cell_type": "code",
   "execution_count": 307,
   "metadata": {},
   "outputs": [
    {
     "data": {
      "text/plain": [
       "[4, 2, 1, 3, 0, 5, 6, 7, NaN]\n",
       "Categories (8, int64): [0 < 1 < 2 < 3 < 4 < 5 < 6 < 7]"
      ]
     },
     "execution_count": 307,
     "metadata": {},
     "output_type": "execute_result"
    }
   ],
   "source": [
    "ds['age_H_head'].unique()"
   ]
  },
  {
   "cell_type": "code",
   "execution_count": 308,
   "metadata": {},
   "outputs": [
    {
     "data": {
      "text/plain": [
       "<AxesSubplot:xlabel='age_H_head', ylabel='count'>"
      ]
     },
     "execution_count": 308,
     "metadata": {},
     "output_type": "execute_result"
    },
    {
     "data": {
      "image/png": "[encoded data removed]",
      "text/plain": [
       "<Figure size 432x288 with 1 Axes>"
      ]
     },
     "metadata": {},
     "output_type": "display_data"
    }
   ],
   "source": [
    "sns.countplot(ds['age_H_head'])"
   ]
  },
  {
   "cell_type": "code",
   "execution_count": 309,
   "metadata": {},
   "outputs": [
    {
     "data": {
      "text/plain": [
       "<bound method IndexOpsMixin.value_counts of 0        2\n",
       "1        2\n",
       "2        1\n",
       "3        3\n",
       "4        3\n",
       "        ..\n",
       "10764    4\n",
       "10765    2\n",
       "10766    3\n",
       "10767    3\n",
       "10768    3\n",
       "Name: wealth_Index, Length: 10769, dtype: int64>"
      ]
     },
     "execution_count": 309,
     "metadata": {},
     "output_type": "execute_result"
    }
   ],
   "source": [
    "ds['wealth_Index'].value_counts"
   ]
  },
  {
   "cell_type": "markdown",
   "metadata": {},
   "source": [
    "here the wealth index values are poorest(1), poorer(2), middle(3), richer(4), richest(5), so we would collapse poorest and poorerone category as ***poor*\n",
    "** Also we would collapse ***richest*** and ***richer*** into a single category as ***rich***. lastly we take middle as it is."
   ]
  },
  {
   "cell_type": "code",
   "execution_count": 310,
   "metadata": {},
   "outputs": [
    {
     "data": {
      "text/plain": [
       "poor      45.287399\n",
       "rich      39.214412\n",
       "middle    15.498189\n",
       "Name: wealth_Index, dtype: float64"
      ]
     },
     "execution_count": 310,
     "metadata": {},
     "output_type": "execute_result"
    }
   ],
   "source": [
    "wealth_Index =  {\"wealth_Index\":\n",
    "                            {1: 'poor',  #christian\n",
    "                             2:'poor',  #christian\n",
    "                             3: 'middle', #christian \n",
    "                             4: 'rich', #muslim \n",
    "                             5: 'rich'#others\n",
    "                              } } # others\n",
    "ds.replace(wealth_Index, inplace=True)\n",
    "ds['wealth_Index'].value_counts(normalize=True) * 100"
   ]
  },
  {
   "cell_type": "code",
   "execution_count": 311,
   "metadata": {},
   "outputs": [
    {
     "data": {
      "text/plain": [
       "<AxesSubplot:xlabel='wealth_Index', ylabel='count'>"
      ]
     },
     "execution_count": 311,
     "metadata": {},
     "output_type": "execute_result"
    },
    {
     "data": {
      "image/png": "[encoded data removed]",
      "text/plain": [
       "<Figure size 432x288 with 1 Axes>"
      ]
     },
     "metadata": {},
     "output_type": "display_data"
    }
   ],
   "source": [
    "sns.countplot(ds['wealth_Index'])"
   ]
  },
  {
   "cell_type": "code",
   "execution_count": 312,
   "metadata": {},
   "outputs": [
    {
     "data": {
      "text/plain": [
       "poor      4877\n",
       "rich      4223\n",
       "middle    1669\n",
       "Name: wealth_Index, dtype: int64"
      ]
     },
     "execution_count": 312,
     "metadata": {},
     "output_type": "execute_result"
    },
    {
     "data": {
      "image/png": "[encoded data removed]",
      "text/plain": [
       "<Figure size 720x216 with 1 Axes>"
      ]
     },
     "metadata": {},
     "output_type": "display_data"
    }
   ],
   "source": [
    "import seaborn as sns\n",
    "sns.set(style=\"darkgrid\")\n",
    "sns.set_palette(\"hls\",3)\n",
    "fig,ax=plt.subplots(figsize=(10,3))\n",
    "ax=sns.countplot(x=\"wealth_Index\",hue=\"IPV\",data=ds)\n",
    "for p in ax.patches:\n",
    "    height=p.get_height()\n",
    "    ax.text(p.get_x() +p.get_width()/2.,\n",
    "            height +3,\n",
    "            '{:1.2f}'.format(height/ds.shape[0]),\n",
    "            ha='center',)\n",
    "ds['wealth_Index'].value_counts()"
   ]
  },
  {
   "cell_type": "code",
   "execution_count": 314,
   "metadata": {},
   "outputs": [
    {
     "data": {
      "text/plain": [
       "array([ 4,  5,  3,  2, 11,  6,  7,  8, 10,  9,  1], dtype=int64)"
      ]
     },
     "execution_count": 314,
     "metadata": {},
     "output_type": "execute_result"
    }
   ],
   "source": [
    "ds['region'].unique()"
   ]
  },
  {
   "cell_type": "code",
   "execution_count": 315,
   "metadata": {},
   "outputs": [
    {
     "data": {
      "text/plain": [
       "<AxesSubplot:xlabel='region', ylabel='count'>"
      ]
     },
     "execution_count": 315,
     "metadata": {},
     "output_type": "execute_result"
    },
    {
     "data": {
      "image/png": "[encoded data removed]",
      "text/plain": [
       "<Figure size 432x288 with 1 Axes>"
      ]
     },
     "metadata": {},
     "output_type": "display_data"
    }
   ],
   "source": [
    "sns.countplot(ds['region'])"
   ]
  },
  {
   "cell_type": "code",
   "execution_count": 316,
   "metadata": {},
   "outputs": [
    {
     "data": {
      "text/plain": [
       "<AxesSubplot:xlabel='religion', ylabel='count'>"
      ]
     },
     "execution_count": 316,
     "metadata": {},
     "output_type": "execute_result"
    },
    {
     "data": {
      "image/png": "[encoded data removed]",
      "text/plain": [
       "<Figure size 432x288 with 1 Axes>"
      ]
     },
     "metadata": {},
     "output_type": "display_data"
    }
   ],
   "source": [
    "sns.countplot(ds['religion'])"
   ]
  },
  {
   "cell_type": "markdown",
   "metadata": {},
   "source": [
    "A we see in the above figue  for  the religion feature (v130) will now have four response-category name, ***1 is orthodox, 2 catholic, 3 is protestant 4 is muslim, 5 is traditional and 96 is others***.\n",
    "so, we would collapse ***orthodox,Catholic and protest*** into one category as ***Christian***. Also we would collapse ***Traditionalist*** and ***Other*** into a single category as ***Others***."
   ]
  },
  {
   "cell_type": "code",
   "execution_count": 317,
   "metadata": {},
   "outputs": [
    {
     "data": {
      "text/plain": [
       "christian    72.216547\n",
       "muslim       26.938434\n",
       "others        0.845018\n",
       "Name: religion, dtype: float64"
      ]
     },
     "execution_count": 317,
     "metadata": {},
     "output_type": "execute_result"
    }
   ],
   "source": [
    "Independent_recode_v130 =  {\"religion\":\n",
    "                            {1: 'christian',  #christian\n",
    "                             2:'christian',  #christian\n",
    "                             3: 'christian', #christian \n",
    "                             4: 'muslim', #muslim \n",
    "                             5: 'others',#others\n",
    "                              96: 'others'} } # others\n",
    "ds.replace(Independent_recode_v130, inplace=True)\n",
    "ds['religion'].value_counts(normalize=True) * 100"
   ]
  },
  {
   "cell_type": "code",
   "execution_count": 318,
   "metadata": {},
   "outputs": [
    {
     "data": {
      "text/plain": [
       "<AxesSubplot:xlabel='religion', ylabel='count'>"
      ]
     },
     "execution_count": 318,
     "metadata": {},
     "output_type": "execute_result"
    },
    {
     "data": {
      "image/png": "[encoded data removed]",
      "text/plain": [
       "<Figure size 432x288 with 1 Axes>"
      ]
     },
     "metadata": {},
     "output_type": "display_data"
    }
   ],
   "source": [
    "sns.countplot(ds['religion'])"
   ]
  },
  {
   "cell_type": "code",
   "execution_count": 319,
   "metadata": {},
   "outputs": [],
   "source": [
    "#Creating new features from existing feature\n",
    "\n",
    "media_exposure=[]\n",
    "ds.insert(49,'media_exposure','NaN') "
   ]
  },
  {
   "cell_type": "code",
   "execution_count": 320,
   "metadata": {},
   "outputs": [],
   "source": [
    "new=[]\n",
    "ds.insert(50,'new','NaN')"
   ]
  },
  {
   "cell_type": "code",
   "execution_count": 321,
   "metadata": {},
   "outputs": [
    {
     "data": {
      "text/plain": [
       "0    5028\n",
       "2    2103\n",
       "4    1146\n",
       "3     900\n",
       "1     865\n",
       "5     426\n",
       "6     301\n",
       "Name: new, dtype: int64"
      ]
     },
     "execution_count": 321,
     "metadata": {},
     "output_type": "execute_result"
    }
   ],
   "source": [
    "ds['new']=ds['fre_reading_newspaper'] + ds['frequency_listning_radio']+ds['fre_wathicng_television']\n",
    "ds['new'].value_counts()"
   ]
  },
  {
   "cell_type": "code",
   "execution_count": 322,
   "metadata": {},
   "outputs": [],
   "source": [
    "# is there any types of violence ?  yes =1, else no =0 \n",
    "ds.loc[ds.new ==0 ,'media_exposure'] = 0\n",
    "ds.loc[ds.new !=0 ,'media_exposure'] = 1; "
   ]
  },
  {
   "cell_type": "code",
   "execution_count": 323,
   "metadata": {},
   "outputs": [
    {
     "data": {
      "text/plain": [
       "array([0, 1], dtype=object)"
      ]
     },
     "execution_count": 323,
     "metadata": {},
     "output_type": "execute_result"
    }
   ],
   "source": [
    "ds['media_exposure'].unique()"
   ]
  },
  {
   "cell_type": "code",
   "execution_count": 324,
   "metadata": {},
   "outputs": [
    {
     "data": {
      "text/plain": [
       "<AxesSubplot:xlabel='media_exposure', ylabel='count'>"
      ]
     },
     "execution_count": 324,
     "metadata": {},
     "output_type": "execute_result"
    },
    {
     "data": {
      "image/png": "[encoded data removed]",
      "text/plain": [
       "<Figure size 432x288 with 1 Axes>"
      ]
     },
     "metadata": {},
     "output_type": "display_data"
    }
   ],
   "source": [
    "sns.countplot(ds['media_exposure'])"
   ]
  },
  {
   "cell_type": "code",
   "execution_count": 325,
   "metadata": {},
   "outputs": [
    {
     "data": {
      "text/plain": [
       "Index(['women_age', 'region', 'residence', 'woman_education', 'religion',\n",
       "       'ethnicity', 'no_of_H_members', 'no_of_children_Un_5',\n",
       "       'r/n_ship_HH_head', 'sex_HH_head', 'age_H_head',\n",
       "       'fre_reading_newspaper', 'frequency_listning_radio',\n",
       "       'fre_wathicng_television', 'wealth_Index', 'total_children_ever_born',\n",
       "       'currently_pregnant', 'No_of_living_children', 'smokes_cigarettes',\n",
       "       'current_martial_status', 'number_of_other_wives', 'marital_duration',\n",
       "       'no_family', 'husband_education', 'husbands_occupation',\n",
       "       'wife_working_status', 'wife_occupation', 'husband_age',\n",
       "       'husband_decides_wife_health_care', 'husband_decides_HH_purchase',\n",
       "       'husband_decides_fimily_vist', 'husband_decides_fin_activity',\n",
       "       'wife_goes_W_teeling_husband', 'wife_neglects_children',\n",
       "       'wife_argues_W_husband', 'wife_burns_food', 'wife_owns_house',\n",
       "       'wife_owns_land', 'wife_asking_use_condom_his_STIs',\n",
       "       'wife_refuses_sex_W_husband', 'husband_j_wife_talks_other_men',\n",
       "       'husband_accuses_wif_unfaithfulness',\n",
       "       'husband_not_permit_meet_her_friends',\n",
       "       'husband_limit_wife_contact_family', 'husband_insists_where wife_is',\n",
       "       'husband_drinks_alcohol', 'wifes_familiy_violence_histrory',\n",
       "       'wife_afraid_hasband', 'IPV', 'media_exposure', 'new'],\n",
       "      dtype='object')"
      ]
     },
     "execution_count": 325,
     "metadata": {},
     "output_type": "execute_result"
    }
   ],
   "source": [
    "ds.columns"
   ]
  },
  {
   "cell_type": "code",
   "execution_count": 326,
   "metadata": {},
   "outputs": [
    {
     "data": {
      "text/plain": [
       "array([18, 23, 13, 21, 19, 15, 20, 26, 17, 16, 10, 12, 14, 11, 24, 28, 31,\n",
       "       25, 22, 27, 29, 34, 37, 30, 42, 43, 36, 33, 32, 35, 39, 38, 41, 40],\n",
       "      dtype=int64)"
      ]
     },
     "execution_count": 326,
     "metadata": {},
     "output_type": "execute_result"
    }
   ],
   "source": [
    "ds['marital_duration'].unique()"
   ]
  },
  {
   "cell_type": "code",
   "execution_count": 327,
   "metadata": {},
   "outputs": [
    {
     "data": {
      "text/plain": [
       "15    1376\n",
       "17    1128\n",
       "16    1118\n",
       "18    1110\n",
       "19     903\n",
       "14     902\n",
       "20     781\n",
       "21     621\n",
       "13     525\n",
       "22     448\n",
       "23     345\n",
       "12     314\n",
       "24     256\n",
       "25     175\n",
       "11     153\n",
       "26     135\n",
       "10     102\n",
       "27      98\n",
       "29      65\n",
       "28      65\n",
       "30      42\n",
       "31      38\n",
       "32      17\n",
       "34      13\n",
       "33       9\n",
       "37       8\n",
       "35       7\n",
       "36       4\n",
       "39       3\n",
       "38       3\n",
       "42       2\n",
       "43       1\n",
       "41       1\n",
       "40       1\n",
       "Name: marital_duration, dtype: int64"
      ]
     },
     "execution_count": 327,
     "metadata": {},
     "output_type": "execute_result"
    }
   ],
   "source": [
    "ds['marital_duration'].value_counts()"
   ]
  },
  {
   "cell_type": "code",
   "execution_count": 328,
   "metadata": {},
   "outputs": [],
   "source": [
    "ds['marital_duration'] = pd.cut(x=ds['marital_duration'], bins=[9,19,25,43],labels= [0,1,2])"
   ]
  },
  {
   "cell_type": "code",
   "execution_count": 329,
   "metadata": {},
   "outputs": [
    {
     "data": {
      "text/plain": [
       "0    7631\n",
       "1    2626\n",
       "2     512\n",
       "Name: marital_duration, dtype: int64"
      ]
     },
     "execution_count": 329,
     "metadata": {},
     "output_type": "execute_result"
    }
   ],
   "source": [
    "ds['marital_duration'].value_counts()"
   ]
  },
  {
   "cell_type": "code",
   "execution_count": 330,
   "metadata": {},
   "outputs": [
    {
     "data": {
      "text/plain": [
       "<AxesSubplot:xlabel='marital_duration', ylabel='count'>"
      ]
     },
     "execution_count": 330,
     "metadata": {},
     "output_type": "execute_result"
    },
    {
     "data": {
      "image/png": "[encoded data removed]",
      "text/plain": [
       "<Figure size 432x288 with 1 Axes>"
      ]
     },
     "metadata": {},
     "output_type": "display_data"
    }
   ],
   "source": [
    "sns.countplot(ds['marital_duration'])"
   ]
  },
  {
   "cell_type": "code",
   "execution_count": 332,
   "metadata": {},
   "outputs": [
    {
     "data": {
      "text/plain": [
       "array([42, 43, 55, 35, 30, 36, 49, 47, 23, 40, 25, 32, 38, 48, 34, 56, 37,\n",
       "       28, 41, 21, 68, 22, 65, 63, 50, 60, 44, 45, 75, 18, 26, 29, 64, 27,\n",
       "       52, 53, 57, 95, 33, 39, 76, 19, 24, 61, 74, 62, 31, 80, 46, 54, 16,\n",
       "       70, 69, 67, 58, 15, 66, 51, 85, 20, 78, 87, 71, 59, 72, 90, 84, 77,\n",
       "       86, 17, 93, 73, 81, 94], dtype=int64)"
      ]
     },
     "execution_count": 332,
     "metadata": {},
     "output_type": "execute_result"
    }
   ],
   "source": [
    "ds['husband_age'].unique()"
   ]
  },
  {
   "cell_type": "code",
   "execution_count": 333,
   "metadata": {},
   "outputs": [],
   "source": [
    "ds['husband_age'] = pd.cut(x=ds['husband_age'], bins=[14,34,54,70,94],labels= [0,1,2,3])"
   ]
  },
  {
   "cell_type": "code",
   "execution_count": 334,
   "metadata": {},
   "outputs": [
    {
     "data": {
      "text/plain": [
       "1    6226\n",
       "0    3764\n",
       "2     720\n",
       "3      51\n",
       "Name: husband_age, dtype: int64"
      ]
     },
     "execution_count": 334,
     "metadata": {},
     "output_type": "execute_result"
    }
   ],
   "source": [
    "ds['husband_age'].value_counts()"
   ]
  },
  {
   "cell_type": "code",
   "execution_count": null,
   "metadata": {},
   "outputs": [],
   "source": []
  },
  {
   "cell_type": "code",
   "execution_count": 335,
   "metadata": {},
   "outputs": [],
   "source": [
    "#Save the processed csv for next dat Analysis \n",
    "    #ds.to_csv(\"c:/users/administrator/desktop/update/transformation.csv\")"
   ]
  },
  {
   "cell_type": "code",
   "execution_count": 4,
   "metadata": {},
   "outputs": [],
   "source": [
    "  ds=pd.read_csv(\"c:/users/administrator/desktop/update/transformation.csv\")"
   ]
  },
  {
   "cell_type": "code",
   "execution_count": null,
   "metadata": {},
   "outputs": [],
   "source": []
  },
  {
   "cell_type": "code",
   "execution_count": null,
   "metadata": {},
   "outputs": [],
   "source": []
  },
  {
   "cell_type": "code",
   "execution_count": null,
   "metadata": {},
   "outputs": [],
   "source": []
  },
  {
   "cell_type": "code",
   "execution_count": null,
   "metadata": {},
   "outputs": [],
   "source": []
  },
  {
   "cell_type": "code",
   "execution_count": 5,
   "metadata": {},
   "outputs": [
    {
     "data": {
      "text/plain": [
       "Index(['media_exposure', 'women_age', 'region', 'residence', 'woman_education',\n",
       "       'religion', 'ethnicity', 'no_of_H_members', 'no_of_children_Un_5',\n",
       "       'r/n_ship_HH_head', 'sex_HH_head', 'age_H_head', 'wealth_Index',\n",
       "       'total_children_ever_born', 'currently_pregnant',\n",
       "       'No_of_living_children', 'smokes_cigarettes', 'current_martial_status',\n",
       "       'number_of_other_wives', 'marital_duration', 'no_family',\n",
       "       'husband_education', 'husbands_occupation', 'wife_working_status',\n",
       "       'wife_occupation', 'husband_age', 'husband_decides_wife_health_care',\n",
       "       'husband_decides_HH_purchase', 'husband_decides_fimily_vist',\n",
       "       'husband_decides_fin_activity', 'wife_goes_W_teeling_husband',\n",
       "       'wife_neglects_children', 'wife_argues_W_husband', 'wife_burns_food',\n",
       "       'wife_owns_house', 'wife_owns_land', 'wife_asking_use_condom_his_STIs',\n",
       "       'wife_refuses_sex_W_husband', 'husband_j_wife_talks_other_men',\n",
       "       'husband_accuses_wif_unfaithfulness',\n",
       "       'husband_not_permit_meet_her_friends',\n",
       "       'husband_limit_wife_contact_family', 'husband_insists_where wife_is',\n",
       "       'husband_drinks_alcohol', 'wifes_familiy_violence_histrory',\n",
       "       'wife_afraid_hasband', 'IPV'],\n",
       "      dtype='object')"
      ]
     },
     "execution_count": 5,
     "metadata": {},
     "output_type": "execute_result"
    }
   ],
   "source": [
    "ds.columns"
   ]
  },
  {
   "cell_type": "code",
   "execution_count": 40,
   "metadata": {},
   "outputs": [
    {
     "data": {
      "text/plain": [
       "(10769, 47)"
      ]
     },
     "execution_count": 40,
     "metadata": {},
     "output_type": "execute_result"
    }
   ],
   "source": [
    "ds.shape"
   ]
  },
  {
   "cell_type": "markdown",
   "metadata": {},
   "source": [
    "# Correlation Matrix"
   ]
  },
  {
   "cell_type": "code",
   "execution_count": 41,
   "metadata": {},
   "outputs": [
    {
     "data": {
      "text/plain": [
       "<AxesSubplot:xlabel='residence', ylabel='count'>"
      ]
     },
     "execution_count": 41,
     "metadata": {},
     "output_type": "execute_result"
    },
    {
     "data": {
      "image/png": "[encoded data removed]",
      "text/plain": [
       "<Figure size 432x288 with 1 Axes>"
      ]
     },
     "metadata": {
      "needs_background": "light"
     },
     "output_type": "display_data"
    }
   ],
   "source": [
    "#sns.pairplot(familly,hue='age')\n",
    "sns.countplot(hue='residence', x=\"residence\",data=ds)"
   ]
  },
  {
   "cell_type": "code",
   "execution_count": 42,
   "metadata": {},
   "outputs": [
    {
     "data": {
      "text/plain": [
       "2    7605\n",
       "1    3164\n",
       "Name: residence, dtype: int64"
      ]
     },
     "execution_count": 42,
     "metadata": {},
     "output_type": "execute_result"
    },
    {
     "data": {
      "image/png": "[encoded data removed]",
      "text/plain": [
       "<Figure size 720x216 with 1 Axes>"
      ]
     },
     "metadata": {},
     "output_type": "display_data"
    }
   ],
   "source": [
    "import seaborn as sns\n",
    "sns.set(style=\"darkgrid\")\n",
    "sns.set_palette(\"hls\",3)\n",
    "fig,ax=plt.subplots(figsize=(10,3))\n",
    "ax=sns.countplot(x=\"residence\",hue=\"IPV\",data=ds)\n",
    "for p in ax.patches:\n",
    "    height=p.get_height()\n",
    "    ax.text(p.get_x() +p.get_width()/2.,\n",
    "            height +3,\n",
    "            '{:1.2f}'.format(height/ds.shape[0]),\n",
    "            ha='center',)\n",
    "ds['residence'].value_counts()"
   ]
  },
  {
   "cell_type": "code",
   "execution_count": null,
   "metadata": {},
   "outputs": [],
   "source": []
  },
  {
   "cell_type": "markdown",
   "metadata": {},
   "source": [
    "## Lable encoding"
   ]
  },
  {
   "cell_type": "code",
   "execution_count": null,
   "metadata": {},
   "outputs": [],
   "source": []
  },
  {
   "cell_type": "code",
   "execution_count": null,
   "metadata": {},
   "outputs": [],
   "source": []
  },
  {
   "cell_type": "code",
   "execution_count": null,
   "metadata": {},
   "outputs": [],
   "source": []
  },
  {
   "cell_type": "markdown",
   "metadata": {},
   "source": []
  },
  {
   "cell_type": "code",
   "execution_count": null,
   "metadata": {},
   "outputs": [],
   "source": []
  },
  {
   "cell_type": "code",
   "execution_count": null,
   "metadata": {},
   "outputs": [],
   "source": []
  },
  {
   "cell_type": "code",
   "execution_count": 43,
   "metadata": {},
   "outputs": [],
   "source": [
    "x=ds.drop(['IPV'],axis=1)\n",
    "y=ds['IPV']\n",
    "#y = preprocessing"
   ]
  },
  {
   "cell_type": "code",
   "execution_count": 44,
   "metadata": {},
   "outputs": [],
   "source": [
    "x=ds.drop(['IPV'],axis=1)\n",
    "y=ds['IPV']\n",
    "#y = preprocessing\n",
    "x_train ,x_test,y_train,y_test =train_test_split(x,y, test_size=0.2,random_state=0)"
   ]
  },
  {
   "cell_type": "code",
   "execution_count": 45,
   "metadata": {},
   "outputs": [],
   "source": [
    "x_train ,x_test,y_train,y_test =train_test_split(x,y, test_size=0.2,random_state=0)"
   ]
  },
  {
   "cell_type": "code",
   "execution_count": 22,
   "metadata": {},
   "outputs": [],
   "source": [
    "# fit the object to the training data.\n",
    "#sfs = sfs.fit(x_train,y_train.values.ravel())"
   ]
  },
  {
   "cell_type": "code",
   "execution_count": 299,
   "metadata": {},
   "outputs": [
    {
     "name": "stdout",
     "output_type": "stream",
     "text": [
      "Index(['total_children_ever_born  '], dtype='object')\n"
     ]
    }
   ],
   "source": []
  },
  {
   "cell_type": "code",
   "execution_count": null,
   "metadata": {},
   "outputs": [],
   "source": []
  },
  {
   "cell_type": "code",
   "execution_count": 49,
   "metadata": {},
   "outputs": [
    {
     "name": "stdout",
     "output_type": "stream",
     "text": [
      "0.6829155060352832\n"
     ]
    }
   ],
   "source": []
  },
  {
   "cell_type": "code",
   "execution_count": 48,
   "metadata": {},
   "outputs": [
    {
     "name": "stdout",
     "output_type": "stream",
     "text": [
      "number of features: 19\n",
      "\n",
      "selected features : Index(['women_age', 'region', 'woman_education', 'ethnicity',\n",
      "       'no_of_children_Un_5', 'age_H_head', 'No_of_living_children',\n",
      "       'no_family', 'husband_education', 'husbands_occupation',\n",
      "       'wife_occupation', 'wife_owns_house', 'wife_owns_land',\n",
      "       'husband_j_wife_talks_other_men', 'husband_accuses_wif_unfaithfulness',\n",
      "       'husband_insists_where wife_is', 'husband_drinks_alcohol',\n",
      "       'wifes_familiy_violence_histrory', 'wife_afraid_hasband'],\n",
      "      dtype='object')\n"
     ]
    }
   ],
   "source": []
  },
  {
   "cell_type": "code",
   "execution_count": null,
   "metadata": {},
   "outputs": [],
   "source": []
  },
  {
   "cell_type": "code",
   "execution_count": null,
   "metadata": {},
   "outputs": [],
   "source": []
  },
  {
   "cell_type": "code",
   "execution_count": null,
   "metadata": {},
   "outputs": [],
   "source": []
  },
  {
   "cell_type": "markdown",
   "metadata": {},
   "source": []
  },
  {
   "cell_type": "markdown",
   "metadata": {},
   "source": [
    "## Illustrate class imbalance problem "
   ]
  },
  {
   "cell_type": "markdown",
   "metadata": {},
   "source": [
    "I will check the distribution of the Class column with the value_counts() method as follows:-"
   ]
  },
  {
   "cell_type": "code",
   "execution_count": 26,
   "metadata": {},
   "outputs": [
    {
     "data": {
      "text/plain": [
       "(10769, 50)"
      ]
     },
     "execution_count": 26,
     "metadata": {},
     "output_type": "execute_result"
    }
   ],
   "source": [
    "ds.shape"
   ]
  },
  {
   "cell_type": "code",
   "execution_count": 81,
   "metadata": {},
   "outputs": [
    {
     "data": {
      "text/plain": [
       "0    7037\n",
       "1    1594\n",
       "2    1078\n",
       "3     679\n",
       "4     381\n",
       "Name: IPV, dtype: int64"
      ]
     },
     "execution_count": 81,
     "metadata": {},
     "output_type": "execute_result"
    }
   ],
   "source": [
    "# check the distribution of Class column\n",
    "\n",
    "ds['IPV'].value_counts()"
   ]
  },
  {
   "cell_type": "markdown",
   "metadata": {},
   "source": [
    "So, we have 7037 No violence, 1594 Physical,1078 Pyschological 679 Sexual and 381 Multiple violence,  data out of total 10769 violence in the dataset. \n"
   ]
  },
  {
   "cell_type": "markdown",
   "metadata": {},
   "source": [
    "Now, I will find the percentage of labels N,  P,  PSY,  S and M within the `Class` column."
   ]
  },
  {
   "cell_type": "code",
   "execution_count": 6,
   "metadata": {},
   "outputs": [
    {
     "data": {
      "text/plain": [
       "0    0.653450\n",
       "1    0.148017\n",
       "2    0.100102\n",
       "3    0.063051\n",
       "4    0.035379\n",
       "Name: IPV, dtype: float64"
      ]
     },
     "execution_count": 6,
     "metadata": {},
     "output_type": "execute_result"
    }
   ],
   "source": [
    "# percentage of labels within the Class column\n",
    "warnings.simplefilter(\"ignore\")\n",
    "ds['IPV'].value_counts()/np.float(len(ds))"
   ]
  },
  {
   "cell_type": "markdown",
   "metadata": {},
   "source": [
    "We can see that the `Class` column is highly imbalanced. It contains 65.82% labels as 0(`N`), 14.8% labels as 1(`P`),10.00% labels as 2(`PSY), `6.30% labels as 3 (`S`) and 3.53% labels as 4(`M`). \n",
    "\n",
    "Now, I will plot the bar plot to confirm this."
   ]
  },
  {
   "cell_type": "code",
   "execution_count": 7,
   "metadata": {},
   "outputs": [
    {
     "data": {
      "text/plain": [
       "<AxesSubplot:>"
      ]
     },
     "execution_count": 7,
     "metadata": {},
     "output_type": "execute_result"
    },
    {
     "data": {
      "image/png": "[encoded data removed]",
      "text/plain": [
       "<Figure size 432x288 with 1 Axes>"
      ]
     },
     "metadata": {
      "needs_background": "light"
     },
     "output_type": "display_data"
    }
   ],
   "source": [
    " #view the distribution of percentages within the Class column\n",
    "warnings.simplefilter(\"ignore\")\n",
    "\n",
    "(ds['IPV'].value_counts()/np.float(len(ds))).plot.bar()"
   ]
  },
  {
   "cell_type": "markdown",
   "metadata": {},
   "source": [
    "The above bar plot confirms our finding that the `Class` variable is highly imbalanced. "
   ]
  },
  {
   "cell_type": "markdown",
   "metadata": {},
   "source": [
    "## Notes\n",
    "There are various approaches to deal with the problem of imbalanced classes. These are `random oversampling`, `random undersampling`, `tree-based algorithms`, `resampling with imbalanced learn library`, `under-sampling : Tomek links`,  `under-sampling : Cluster Centroids` and `over-sampling : SMOTE`.\n",
    "\n",
    "\n",
    "Some combination of these approaches will help us to create a better classifier.  Simple sampling techniques may handle slight imbalance whereas more advanced methods like ensemble methods are required for extreme imbalances.  The most effective technique will vary according to the dataset.\n",
    "\n",
    "\n",
    "So, based on the above discussion, we can conclude that there is no one solution to deal with the imbalanced classes problem. \n",
    "for out multiple methods to select the best-suited sampling techniques for the dataset in hand. The most effective technique will vary according to the characteristics of the dataset.\n",
    " eventhogh there is limitations of the method we have used Oversampling technique which SMOTE  to balance our datset \n"
   ]
  },
  {
   "cell_type": "markdown",
   "metadata": {},
   "source": [
    "***What is SMOTE?***\n",
    "\n",
    "SMOTE is an oversampling technique that generates synthetic samples from the dataset which increases the predictive power for minority classes. Even though there is no loss of information but it has a few limitations."
   ]
  },
  {
   "cell_type": "code",
   "execution_count": 64,
   "metadata": {},
   "outputs": [],
   "source": [
    "from imblearn.over_sampling import SMOTE\n",
    "#pip install imblearn all ready installed on anaconda prompt"
   ]
  },
  {
   "cell_type": "code",
   "execution_count": null,
   "metadata": {},
   "outputs": [],
   "source": [
    "x=ds.drop(['IPV'],axis=1)\n",
    "y=ds['IPV']\n",
    "sm = SMOTE(random_state=None,sampling_strategy='auto', n_jobs=-1)\n",
    "x, y = sm.fit_resample(x,y)\n"
   ]
  },
  {
   "cell_type": "code",
   "execution_count": 87,
   "metadata": {},
   "outputs": [],
   "source": [
    "  #x.to_csv(\"c:/users/administrator/desktop/update/balancing.csv\")"
   ]
  },
  {
   "cell_type": "code",
   "execution_count": 88,
   "metadata": {},
   "outputs": [],
   "source": [
    "  #y.to_csv(\"c:/users/administrator/desktop/update/balancing1.csv\")"
   ]
  },
  {
   "cell_type": "code",
   "execution_count": null,
   "metadata": {},
   "outputs": [],
   "source": [
    "  ds=pd.read_csv(\"c:/users/administrator/desktop/update/balancing.csv\")"
   ]
  },
  {
   "cell_type": "code",
   "execution_count": null,
   "metadata": {},
   "outputs": [],
   "source": [
    "  #ds=pd.read_csv(\"c:/users/administrator/desktop/update/now.csv\")"
   ]
  },
  {
   "cell_type": "code",
   "execution_count": null,
   "metadata": {},
   "outputs": [],
   "source": []
  },
  {
   "cell_type": "code",
   "execution_count": null,
   "metadata": {},
   "outputs": [],
   "source": [
    "ds.columns"
   ]
  },
  {
   "cell_type": "code",
   "execution_count": 7,
   "metadata": {},
   "outputs": [
    {
     "data": {
      "text/plain": [
       "(1470, 21)"
      ]
     },
     "execution_count": 7,
     "metadata": {},
     "output_type": "execute_result"
    }
   ],
   "source": [
    "ds.shape"
   ]
  },
  {
   "cell_type": "markdown",
   "metadata": {},
   "source": [
    "# 3.3. Feature Selection\n",
    "In this method, the feature selection process is totally based on a greedy search approach. \n",
    "It selects a combination of a feature that will give optimal results for machine learning algorithms.\n",
    " from feature selection methods we have used SequentialFeatureSelector from Wrapper Method with RF estimator"
   ]
  },
  {
   "cell_type": "code",
   "execution_count": 7,
   "metadata": {},
   "outputs": [],
   "source": [
    "#dividing with train test split\n",
    "\n",
    "x=ds.drop(['IPV'],axis=1)\n",
    "y=ds['IPV']\n",
    "#y = preprocessing\n",
    "x_train ,x_test,y_train,y_test =train_test_split(x,y, test_size=0.2,random_state=0)"
   ]
  },
  {
   "cell_type": "markdown",
   "metadata": {},
   "source": [
    "***Before We  apply to Sequential foraward feature seclection method first I want to know number of feature that are hight contribution for the model using randomforest estimator***"
   ]
  },
  {
   "cell_type": "code",
   "execution_count": null,
   "metadata": {},
   "outputs": [],
   "source": []
  },
  {
   "cell_type": "code",
   "execution_count": null,
   "metadata": {},
   "outputs": [
    {
     "name": "stdout",
     "output_type": "stream",
     "text": [
      "Selcted feature : 1\n",
      "0.31476481455165556\n",
      "\n"
     ]
    }
   ],
   "source": [
    "from sklearn.multiclass import OneVsRestClassifier #used to biarize the model\n",
    "from sklearn.ensemble import RandomForestClassifier\n",
    "#deterimne the paramets in randomforest classifiers\n",
    "from sklearn import metrics\n",
    "warnings.filterwarnings('ignore')\n",
    "k_range=range(1,28)\n",
    "scores=[]\n",
    "for index in k_range:\n",
    "    rfe_rf=RFE(RandomForestClassifier(n_estimators=1000,criterion=\"entropy\",random_state=123,max_depth=10,max_leaf_nodes=30),n_features_to_select=index)\n",
    "    \n",
    "    \n",
    "    rfe_rf.fit(x_train,y_train.values.ravel())\n",
    "    y_rfe_rf=rfe_rf.predict(x_test) \n",
    "    print(\"Selcted feature :\",index)\n",
    "   # scores.append(metrics.accuracy_score(y_test,y_pred))\n",
    "    print (metrics.accuracy_score(y_test,y_rfe_rf))\n",
    "    print()"
   ]
  },
  {
   "cell_type": "code",
   "execution_count": null,
   "metadata": {},
   "outputs": [],
   "source": []
  },
  {
   "cell_type": "code",
   "execution_count": null,
   "metadata": {},
   "outputs": [],
   "source": []
  },
  {
   "cell_type": "code",
   "execution_count": null,
   "metadata": {},
   "outputs": [],
   "source": []
  },
  {
   "cell_type": "markdown",
   "metadata": {},
   "source": [
    "***Let me define some keywords which we are using in SFS:***\n",
    "\n",
    "***Rndomforest &KNN:*** It is an estimator for the entire process. You can put any algorithm which you are going to use.\n",
    "k_features: Number of features for selection. It is a random value according to your dataset and scores.\n",
    "\n",
    "***forward:*** True is a forward selection technique.\n",
    "\n",
    "***floating***= False is a forward selection technique.\n",
    "\n",
    "***scoring:*** Specifies the evaluation criterion.\n",
    "\n",
    "***verbose:*** Specifies the evaluation criterion."
   ]
  },
  {
   "cell_type": "code",
   "execution_count": null,
   "metadata": {},
   "outputs": [],
   "source": [
    "from sklearn.ensemble import RandomForestClassifier\n",
    "from sklearn.multiclass import OneVsRestClassifier\n",
    "#rf_model = RandomForestClassifier(n_estimators=50, max_features=\"auto\", random_state=44)"
   ]
  },
  {
   "cell_type": "code",
   "execution_count": null,
   "metadata": {},
   "outputs": [],
   "source": [
    "\n",
    "#for sfs\n",
    "from mlxtend.feature_selection import SequentialFeatureSelector as SFS\n",
    "rf_model=RandomForestClassifier(bootstrap=True,n_estimators=2000,criterion=\"entropy\",max_depth=10,max_leaf_nodes=50,random_state=123)\n",
    "sfs1 = SFS(rf_model, \n",
    "           k_features=22, \n",
    "           forward=True, # if forward = True then SFS otherwise SBS\n",
    "           floating=False, \n",
    "           verbose=2,\n",
    "           scoring='accuracy'\n",
    "           )\n",
    "\n"
   ]
  },
  {
   "cell_type": "code",
   "execution_count": null,
   "metadata": {},
   "outputs": [],
   "source": [
    "ovr = OneVsRestClassifier(sfs1)\n",
    "#after applying sfs fit the data:\n",
    "ovr.fit(x_train, y_train)\n",
    "ovr.k_feature_names_  \n",
    "# to get the final set of features\n",
    "#our sfs part has done here\n",
    "#now towards results\n"
   ]
  },
  {
   "cell_type": "code",
   "execution_count": null,
   "metadata": {},
   "outputs": [],
   "source": [
    " "
   ]
  },
  {
   "cell_type": "code",
   "execution_count": null,
   "metadata": {},
   "outputs": [],
   "source": []
  },
  {
   "cell_type": "code",
   "execution_count": null,
   "metadata": {},
   "outputs": [],
   "source": []
  },
  {
   "cell_type": "code",
   "execution_count": null,
   "metadata": {},
   "outputs": [],
   "source": []
  },
  {
   "cell_type": "markdown",
   "metadata": {},
   "source": [
    "# 4. Model Building and Evaluation\n",
    "\n",
    "***Build models that can analyze data, make predictions or quantify uncertainty. in ourcase develop classification model***\n",
    "\n",
    "\tHere the first thing we have tried to do at this stage is to split the cleaned dataset  into train and test sets.\n",
    "\n",
    "\tWe should use the training set to build predictive models and evaluate our model’s performance on test set.\n",
    "\n"
   ]
  },
  {
   "cell_type": "markdown",
   "metadata": {},
   "source": [
    "## 4.1. Train Test Split\n",
    "\n",
    "### What is Train/Test\n",
    "#### We split the dataset into three sets: Training set (80%), Validation set(10%) and a Testng set(10%).\n",
    "\n",
    "A. 80% for training set used to  train the model\n",
    "  \n",
    "B. 20% for testing set used to evaluate the model performance. it only used once a model is completely trained using traind and\n",
    "validationset\n",
    "\n",
    "\n",
    "#### Random state in train and test split\n",
    "   Random state ensures that the splits that you generate are reproducible. Scikit-learn uses random permutations to generate the splits. \n",
    " The random state that you provide is used as a seed to the random number generator. This ensures that the random numbers are generated in the same order.\n"
   ]
  },
  {
   "cell_type": "code",
   "execution_count": 13,
   "metadata": {},
   "outputs": [],
   "source": [
    "from sklearn import preprocessing\n",
    "from sklearn.model_selection import train_test_split"
   ]
  },
  {
   "cell_type": "code",
   "execution_count": 8,
   "metadata": {},
   "outputs": [],
   "source": [
    "x=ds.drop(['IPV'],axis=1)\n",
    "y=ds['IPV']\n",
    "#y = preprocessing.label_binarize(y, classes=[0, 1, 2, 3,4])"
   ]
  },
  {
   "cell_type": "code",
   "execution_count": 9,
   "metadata": {},
   "outputs": [],
   "source": [
    "\n",
    "\n",
    "x_train ,x_test,y_train,y_test =train_test_split(x,y, test_size=0.2,random_state=0)"
   ]
  },
  {
   "cell_type": "markdown",
   "metadata": {},
   "source": [
    "## 4.2. Parameter Tuning"
   ]
  },
  {
   "cell_type": "markdown",
   "metadata": {},
   "source": [
    "###### What Is Hyperparameter Tuning?\n",
    "***Hyperparameter tuning*** is the process of tuning the parameters present as the tuples while we ***build machine learning models***. As datascientist, hyperparameter tuning aims to find parameters where the performance of the model is highest or where the model performance is best and the error rate is least. We define the hyperparameter as shown below for the ***XGBoost,Catboost and random forest classifier model***."
   ]
  },
  {
   "cell_type": "markdown",
   "metadata": {},
   "source": [
    "#### What Steps to follow For Hyper Parameter Tuning?\n",
    "Select the type of model we want to use like XGBoost, CatBoost, RandomForestClassifier, LightGBM or any other model\n",
    "\n",
    "1. Check what are the parameters of the model\n",
    "\n",
    "2. Select the methods for searching the hyperparameter\n",
    "\n",
    "3. Select the cross-validation approach\n",
    "\n",
    "4. Evaluate the model using the score"
   ]
  },
  {
   "cell_type": "markdown",
   "metadata": {},
   "source": [
    " ***List of algorithms that I have Implemetd  in this Project are:***\n",
    "1. XGBoost ensemble learnig with specific tuning***(n_estimators, learning_rate, max_depthnum_leaves, num_leaves)***\n",
    "\n",
    "2. Catboost ensemble learnig with specific tuning***(iterations,learning_rate,depth,l2_leaf_reg)***\n",
    "\n",
    "3. Randomforest  ensemble learnig with specific tuning***(n_estimators,max_features, max_depth, min_samples_split, min_samples_leaf)*** \n",
    "\n",
    "4. Support Vector Machine with specific tuning***(C, gamma, kernel)*** \n",
    "\n"
   ]
  },
  {
   "cell_type": "code",
   "execution_count": 10,
   "metadata": {},
   "outputs": [
    {
     "name": "stdout",
     "output_type": "stream",
     "text": [
      "Defaulting to user installation because normal site-packages is not writeable\n",
      "Requirement already satisfied: xgboost in c:\\users\\alext\\appdata\\roaming\\python\\python39\\site-packages (1.7.3)\n",
      "Requirement already satisfied: numpy in c:\\programdata\\anaconda3\\lib\\site-packages (from xgboost) (1.21.5)\n",
      "Requirement already satisfied: scipy in c:\\programdata\\anaconda3\\lib\\site-packages (from xgboost) (1.7.3)\n"
     ]
    }
   ],
   "source": [
    "#Import important libraries for Predictive Model development:\n",
    "!pip install xgboost\n",
    "import matplotlib.pyplot as plt\n",
    "from sklearn.model_selection import GridSearchCV\n",
    "from xgboost import XGBClassifier\n",
    "from sklearn.metrics import classification_report\n",
    "from sklearn import  metrics   #Additional scklearn functions\n",
    "from matplotlib.pylab import rcParams\n",
    "rcParams['figure.figsize'] = 12, 4"
   ]
  },
  {
   "cell_type": "markdown",
   "metadata": {},
   "source": [
    "#### 1. Buld model using XGBoost algorithm with parametrer Tuning(Grid Search) "
   ]
  },
  {
   "cell_type": "markdown",
   "metadata": {},
   "source": [
    "### Tune Manually"
   ]
  },
  {
   "cell_type": "code",
   "execution_count": 12,
   "metadata": {},
   "outputs": [],
   "source": [
    "#Step 1: Fix learning rate and number of estimators for tuning tree-based parameters"
   ]
  },
  {
   "cell_type": "code",
   "execution_count": 13,
   "metadata": {},
   "outputs": [],
   "source": [
    "#Step 2: Tune max_depth and min_child_weight\n",
    "#We tune these first as they will have the highest impact on model outcome. To start with, let’s set wider ranges and then we #will perform another iteration for smaller ranges.\n",
    "#Important Note: I’ll be doing some heavy-duty grid searched in this section which can take 15-30 mins or even more time to run depending on your system. You can vary the number of values you are testing based on what your system can handle."
   ]
  },
  {
   "cell_type": "code",
   "execution_count": null,
   "metadata": {},
   "outputs": [],
   "source": [
    "#Step 3: Tune gamma\n",
    "#Now lets tune gamma value using the parameters already tuned above. Gamma can take various values but I’ll check for 5 values here. You can go into more precise values as."
   ]
  },
  {
   "cell_type": "markdown",
   "metadata": {},
   "source": [
    "The ***fit method of XGB_model class*** is called to train the algorithm on the training data, which is passed as a parameter to the fit method. Execute the following code to train the algorithm:"
   ]
  },
  {
   "cell_type": "code",
   "execution_count": 12,
   "metadata": {},
   "outputs": [],
   "source": [
    "XGB_model = XGBClassifier(\n",
    " learning_rate =0.1,\n",
    " n_estimators=1500,\n",
    " max_depth=4,\n",
    " min_child_weight=6,\n",
    " gamma=0,\n",
    " subsample=0.8,\n",
    " colsample_bytree=0.8,\n",
    " reg_alpha=0.005,\n",
    " objective= 'objective=multi:softmax',\n",
    " nthread=4,\n",
    " scale_pos_weight=1,\n",
    " seed=27)"
   ]
  },
  {
   "cell_type": "code",
   "execution_count": 13,
   "metadata": {},
   "outputs": [
    {
     "name": "stdout",
     "output_type": "stream",
     "text": [
      "[17:24:01] WARNING: C:/buildkite-agent/builds/buildkite-windows-cpu-autoscaling-group-i-08de971ced8a8cdc6-1/xgboost/xgboost-ci-windows/src/learner.cc:767: \n",
      "Parameters: { \"scale_pos_weight\" } are not used.\n",
      "\n"
     ]
    },
    {
     "data": {
      "text/plain": [
       "XGBClassifier(base_score=None, booster=None, callbacks=None,\n",
       "              colsample_bylevel=None, colsample_bynode=None,\n",
       "              colsample_bytree=0.8, early_stopping_rounds=None,\n",
       "              enable_categorical=False, eval_metric=None, feature_types=None,\n",
       "              gamma=0, gpu_id=None, grow_policy=None, importance_type=None,\n",
       "              interaction_constraints=None, learning_rate=0.1, max_bin=None,\n",
       "              max_cat_threshold=None, max_cat_to_onehot=None,\n",
       "              max_delta_step=None, max_depth=4, max_leaves=None,\n",
       "              min_child_weight=6, missing=nan, monotone_constraints=None,\n",
       "              n_estimators=1500, n_jobs=None, nthread=4, num_parallel_tree=None,\n",
       "              objective='multi:softprob', ...)"
      ]
     },
     "execution_count": 13,
     "metadata": {},
     "output_type": "execute_result"
    }
   ],
   "source": [
    "#Train the model using TRaining data\n",
    "\n",
    "XGB_model.fit(x_train,y_train)"
   ]
  },
  {
   "cell_type": "markdown",
   "metadata": {},
   "source": [
    "## 4.3. Model Evaluation\n",
    "***Success metrics help us measure how well models are meeting our expectations.*** In this ***Machine Learning process***, evaluate and compare ***model performance, Visualize and communicate results***.Model evaluation is the most important part of the machine learning process from a ***Data scientist*** perspective\n",
    "\n",
    "\n"
   ]
  },
  {
   "cell_type": "markdown",
   "metadata": {},
   "source": [
    "### Confusion matrix\n",
    "\n",
    "\n",
    "A confusion matrix is a tool for summarizing the performance of a classification algorithm. A confusion matrix will give us a clear picture of classification model performance and the types of errors produced by the model. It gives us a summary of correct and incorrect predictions broken down by each category. \n",
    "Four types of outcomes are possible while evaluating a classification model performance. These four outcomes are described below:-\n",
    "\n",
    "\n",
    "**True Positives (TP)** – True Positives occur when we predict an observation belongs to a certain class and the observation actually belongs to that class.\n",
    "\n",
    "\n",
    "**True Negatives (TN)** – True Negatives occur when we predict an observation does not belong to a certain class and the observation actually does not belong to that class.\n",
    "\n",
    "\n",
    "**False Positives (FP)** – False Positives occur when we predict an observation belongs to a    certain class but the observation actually does not belong to that class. This type of error is called **Type I error.**\n",
    "\n",
    "\n",
    "\n",
    "**False Negatives (FN)** – False Negatives occur when we predict an observation does not belong to a certain class but the observation actually belongs to that class. This is a very serious error and it is called **Type II error.**\n",
    "\n",
    "\n",
    "\n",
    "These four outcomes are summarized in a confusion matrix given below.\n"
   ]
  },
  {
   "cell_type": "code",
   "execution_count": 14,
   "metadata": {},
   "outputs": [
    {
     "name": "stdout",
     "output_type": "stream",
     "text": [
      "Confusion matrix:\n",
      " [[1270   75   53   23    8]\n",
      " [ 126 1140   62   44   21]\n",
      " [  70   71 1198   45   17]\n",
      " [  25   28   31 1319    9]\n",
      " [   6   10    7    8 1371]]\n"
     ]
    }
   ],
   "source": [
    "# Test The Performance of developed Predictive model using variouse performance metrics\n",
    "\n",
    "Predict1=XGB_model.predict(x_test)\n",
    "#xgb1=print(accuracy_score(y_test,Predict1))\n",
    "#modelfit(xgb2, train, predictors)\n",
    "\n",
    "\n",
    "# import the metric\n",
    "from sklearn.metrics import confusion_matrix\n",
    "\n",
    "\n",
    "# print the confusion matrix\n",
    "cnf_matrix = confusion_matrix(y_test,Predict1)\n",
    "\n",
    "\n",
    "print('Confusion matrix:\\n', cnf_matrix)\n",
    "                             "
   ]
  },
  {
   "cell_type": "code",
   "execution_count": 16,
   "metadata": {},
   "outputs": [
    {
     "name": "stdout",
     "output_type": "stream",
     "text": [
      "0.8949836578087254\n"
     ]
    }
   ],
   "source": [
    "Predict1=XGB_model.predict(x_test)\n",
    "xgb1=print(accuracy_score(y_test,Predict1))\n",
    "#modelfit(xgb2, train, predictors)"
   ]
  },
  {
   "cell_type": "code",
   "execution_count": null,
   "metadata": {},
   "outputs": [],
   "source": []
  },
  {
   "cell_type": "markdown",
   "metadata": {},
   "source": [
    "###  Classification report\n",
    "\n",
    "\n",
    "\n",
    "**Classification report** is another way to evaluate the classification model performance. It displays the  **precision**, **recall**, **f1** and **support** scores for the model. I have described these terms in later sections.\n",
    "\n",
    "\n",
    "\n",
    "We can plot a classification report as follows:-"
   ]
  },
  {
   "cell_type": "code",
   "execution_count": 17,
   "metadata": {},
   "outputs": [
    {
     "name": "stdout",
     "output_type": "stream",
     "text": [
      "Classification Report:\n",
      "\n",
      "               precision    recall  f1-score   support\n",
      "\n",
      "           0       0.85      0.89      0.87      1429\n",
      "           1       0.86      0.82      0.84      1393\n",
      "           2       0.89      0.86      0.87      1401\n",
      "           3       0.92      0.93      0.93      1412\n",
      "           4       0.96      0.98      0.97      1402\n",
      "\n",
      "    accuracy                           0.89      7037\n",
      "   macro avg       0.89      0.89      0.89      7037\n",
      "weighted avg       0.89      0.89      0.89      7037\n",
      "\n"
     ]
    }
   ],
   "source": [
    "# import the metric\n",
    "from sklearn.metrics import classification_report\n",
    "from sklearn.metrics import precision_score, recall_score, f1_score\n",
    "\n",
    "# print classification report\n",
    "print(\"Classification Report:\\n\\n\", classification_report(y_test,Predict1))"
   ]
  },
  {
   "cell_type": "markdown",
   "metadata": {},
   "source": [
    "##### Parameter Tuning in XGBoost Ensemble Learning"
   ]
  },
  {
   "cell_type": "markdown",
   "metadata": {},
   "source": [
    "#### Tune the Xtreame gradient boost algorithm using GridSearchCV as Parameter tuning\n",
    "parameter tuning is performed using its defualt parameter value and changing its value "
   ]
  },
  {
   "cell_type": "code",
   "execution_count": 18,
   "metadata": {},
   "outputs": [],
   "source": [
    "from sklearn.model_selection import GridSearchCV#used to automatic parameter optimizer\n",
    "from xgboost import XGBClassifier\n",
    "estimator = XGBClassifier(\n",
    "    objective= 'multi:softmax',\n",
    "    nthread=4,\n",
    "    seed=42\n",
    ")"
   ]
  },
  {
   "cell_type": "code",
   "execution_count": 19,
   "metadata": {},
   "outputs": [],
   "source": [
    "parameters = {\n",
    "    'max_depth': range (2, 10, 1),\n",
    "    'n_estimators': range(100, 250, 50),\n",
    "    'learning_rate': [0.1, 0.01, 0.05]\n",
    "}"
   ]
  },
  {
   "cell_type": "code",
   "execution_count": 20,
   "metadata": {},
   "outputs": [],
   "source": [
    "grid_search = GridSearchCV(\n",
    "    estimator=estimator,\n",
    "    param_grid=parameters,\n",
    "    scoring = 'accuracy',\n",
    "    n_jobs = 1,\n",
    "    cv = 2,\n",
    "    verbose=True\n",
    ")"
   ]
  },
  {
   "cell_type": "code",
   "execution_count": 21,
   "metadata": {},
   "outputs": [],
   "source": [
    "#model = OneVsRestClassifier(grid_search)"
   ]
  },
  {
   "cell_type": "code",
   "execution_count": 22,
   "metadata": {},
   "outputs": [
    {
     "name": "stdout",
     "output_type": "stream",
     "text": [
      "Fitting 2 folds for each of 72 candidates, totalling 144 fits\n"
     ]
    }
   ],
   "source": [
    "#fit the model using Taining data\n",
    "\n",
    "xgb_model=grid_search.fit(x_train,y_train)"
   ]
  },
  {
   "cell_type": "code",
   "execution_count": 23,
   "metadata": {},
   "outputs": [],
   "source": [
    "# Test The Performance of developed Predictive model using variouse performance metrics\n",
    "\n",
    "one_xgb=xgb_model.predict(x_test)\n"
   ]
  },
  {
   "cell_type": "code",
   "execution_count": 24,
   "metadata": {},
   "outputs": [
    {
     "name": "stdout",
     "output_type": "stream",
     "text": [
      "Accuracy Score 0.9269575103026858\n"
     ]
    }
   ],
   "source": [
    "Xgb2=print(\"Accuracy Score\",accuracy_score(y_test,one_xgb))\n"
   ]
  },
  {
   "cell_type": "code",
   "execution_count": 25,
   "metadata": {},
   "outputs": [
    {
     "name": "stdout",
     "output_type": "stream",
     "text": [
      "Classification Report:\n",
      "\n",
      "               precision    recall  f1-score   support\n",
      "\n",
      "           0       0.87      0.91      0.89      1429\n",
      "           1       0.91      0.87      0.89      1393\n",
      "           2       0.93      0.91      0.92      1401\n",
      "           3       0.96      0.96      0.96      1412\n",
      "           4       0.98      0.99      0.98      1402\n",
      "\n",
      "    accuracy                           0.93      7037\n",
      "   macro avg       0.93      0.93      0.93      7037\n",
      "weighted avg       0.93      0.93      0.93      7037\n",
      "\n"
     ]
    }
   ],
   "source": [
    "# import the metric\n",
    "from sklearn.metrics import classification_report\n",
    "\n",
    "\n",
    "# print classification report\n",
    "print(\"Classification Report:\\n\\n\", classification_report(y_test,one_xgb))"
   ]
  },
  {
   "cell_type": "code",
   "execution_count": 26,
   "metadata": {},
   "outputs": [],
   "source": [
    "from sklearn.metrics import precision_score, recall_score, f1_score"
   ]
  },
  {
   "cell_type": "code",
   "execution_count": 27,
   "metadata": {},
   "outputs": [
    {
     "name": "stdout",
     "output_type": "stream",
     "text": [
      "Accuracy Score 0.9269575103026858\n"
     ]
    }
   ],
   "source": [
    "Xgb2=print(\"Accuracy Score\",accuracy_score(y_test,one_xgb))\n"
   ]
  },
  {
   "cell_type": "code",
   "execution_count": 28,
   "metadata": {},
   "outputs": [
    {
     "name": "stdout",
     "output_type": "stream",
     "text": [
      "Precision Score :  0.9269575103026858\n"
     ]
    }
   ],
   "source": [
    "warnings.filterwarnings('ignore')\n",
    "\n",
    "print(\"Precision Score : \",precision_score(y_test, one_xgb, pos_label='positive',\n",
    "                                           average='micro'))"
   ]
  },
  {
   "cell_type": "code",
   "execution_count": null,
   "metadata": {},
   "outputs": [],
   "source": []
  },
  {
   "cell_type": "code",
   "execution_count": 30,
   "metadata": {},
   "outputs": [
    {
     "name": "stdout",
     "output_type": "stream",
     "text": [
      "Recall Score :  0.9269575103026858\n"
     ]
    }
   ],
   "source": [
    "warnings.filterwarnings('ignore')\n",
    "\n",
    "print(\"Recall Score : \",recall_score(y_test, one_xgb, \n",
    "                                           pos_label='positive',\n",
    "                                           average='micro'))"
   ]
  },
  {
   "cell_type": "markdown",
   "metadata": {},
   "source": [
    "XGBoost in terms of ***accuracy, precision, recall, f1 score and ROC*** are gievn below:"
   ]
  },
  {
   "cell_type": "markdown",
   "metadata": {},
   "source": [
    "#### 2. Model Building using Catboost with Paramter Tuning (Grid Search )"
   ]
  },
  {
   "cell_type": "code",
   "execution_count": 31,
   "metadata": {},
   "outputs": [],
   "source": [
    "#Import Catboost model\n",
    "\n",
    "from catboost import CatBoostClassifier "
   ]
  },
  {
   "cell_type": "code",
   "execution_count": 32,
   "metadata": {},
   "outputs": [],
   "source": [
    "#Instantiate CatBoostClassifier\n",
    "\n",
    "CBC = CatBoostClassifier()\n"
   ]
  },
  {
   "cell_type": "code",
   "execution_count": 33,
   "metadata": {},
   "outputs": [],
   "source": [
    "#create the parameters\n",
    "\n",
    "parameters = {'depth'         : [10, 15, 20],\n",
    "                 'learning_rate' : [0.01,0.02,0.03],\n",
    "                  'iterations'    : [40,70,100]\n",
    "                 }"
   ]
  },
  {
   "cell_type": "code",
   "execution_count": 34,
   "metadata": {},
   "outputs": [],
   "source": [
    "#Instantiate GridSearchCV\n",
    "\n",
    "Grid_CBC = GridSearchCV(estimator=CBC, param_grid = parameters, cv = 2, n_jobs=-1)\n"
   ]
  },
  {
   "cell_type": "code",
   "execution_count": 35,
   "metadata": {},
   "outputs": [
    {
     "name": "stdout",
     "output_type": "stream",
     "text": [
      "0:\tlearn: 1.5869676\ttotal: 3.85s\tremaining: 6m 21s\n",
      "1:\tlearn: 1.5663271\ttotal: 6.69s\tremaining: 5m 27s\n",
      "2:\tlearn: 1.5465899\ttotal: 9.58s\tremaining: 5m 9s\n",
      "3:\tlearn: 1.5263046\ttotal: 12.6s\tremaining: 5m 2s\n",
      "4:\tlearn: 1.5072276\ttotal: 15.2s\tremaining: 4m 49s\n",
      "5:\tlearn: 1.4895054\ttotal: 17.9s\tremaining: 4m 40s\n",
      "6:\tlearn: 1.4709665\ttotal: 20.5s\tremaining: 4m 31s\n",
      "7:\tlearn: 1.4537970\ttotal: 23.1s\tremaining: 4m 26s\n",
      "8:\tlearn: 1.4356411\ttotal: 26.2s\tremaining: 4m 25s\n",
      "9:\tlearn: 1.4183152\ttotal: 29.2s\tremaining: 4m 22s\n",
      "10:\tlearn: 1.4013929\ttotal: 31.9s\tremaining: 4m 17s\n",
      "11:\tlearn: 1.3852231\ttotal: 34.6s\tremaining: 4m 13s\n",
      "12:\tlearn: 1.3678899\ttotal: 37.3s\tremaining: 4m 9s\n",
      "13:\tlearn: 1.3518607\ttotal: 40.1s\tremaining: 4m 6s\n",
      "14:\tlearn: 1.3378423\ttotal: 43.1s\tremaining: 4m 4s\n",
      "15:\tlearn: 1.3230298\ttotal: 46s\tremaining: 4m 1s\n",
      "16:\tlearn: 1.3091628\ttotal: 48.6s\tremaining: 3m 57s\n",
      "17:\tlearn: 1.2948937\ttotal: 51.3s\tremaining: 3m 53s\n",
      "18:\tlearn: 1.2813732\ttotal: 53.9s\tremaining: 3m 49s\n",
      "19:\tlearn: 1.2672453\ttotal: 56.8s\tremaining: 3m 47s\n",
      "20:\tlearn: 1.2528199\ttotal: 59.7s\tremaining: 3m 44s\n",
      "21:\tlearn: 1.2397602\ttotal: 1m 2s\tremaining: 3m 41s\n",
      "22:\tlearn: 1.2273484\ttotal: 1m 5s\tremaining: 3m 38s\n",
      "23:\tlearn: 1.2144441\ttotal: 1m 7s\tremaining: 3m 34s\n",
      "24:\tlearn: 1.2022593\ttotal: 1m 10s\tremaining: 3m 31s\n",
      "25:\tlearn: 1.1915480\ttotal: 1m 13s\tremaining: 3m 28s\n",
      "26:\tlearn: 1.1785401\ttotal: 1m 16s\tremaining: 3m 26s\n",
      "27:\tlearn: 1.1666408\ttotal: 1m 18s\tremaining: 3m 22s\n",
      "28:\tlearn: 1.1548362\ttotal: 1m 21s\tremaining: 3m 19s\n",
      "29:\tlearn: 1.1436359\ttotal: 1m 23s\tremaining: 3m 15s\n",
      "30:\tlearn: 1.1323781\ttotal: 1m 26s\tremaining: 3m 12s\n",
      "31:\tlearn: 1.1209913\ttotal: 1m 29s\tremaining: 3m 11s\n",
      "32:\tlearn: 1.1104344\ttotal: 1m 32s\tremaining: 3m 8s\n",
      "33:\tlearn: 1.0998186\ttotal: 1m 35s\tremaining: 3m 5s\n",
      "34:\tlearn: 1.0891464\ttotal: 1m 38s\tremaining: 3m 2s\n",
      "35:\tlearn: 1.0783904\ttotal: 1m 41s\tremaining: 2m 59s\n",
      "36:\tlearn: 1.0683209\ttotal: 1m 43s\tremaining: 2m 56s\n",
      "37:\tlearn: 1.0583218\ttotal: 1m 46s\tremaining: 2m 53s\n",
      "38:\tlearn: 1.0485159\ttotal: 1m 49s\tremaining: 2m 50s\n",
      "39:\tlearn: 1.0387667\ttotal: 1m 51s\tremaining: 2m 47s\n",
      "40:\tlearn: 1.0292203\ttotal: 1m 54s\tremaining: 2m 44s\n",
      "41:\tlearn: 1.0193511\ttotal: 1m 57s\tremaining: 2m 41s\n",
      "42:\tlearn: 1.0113230\ttotal: 1m 59s\tremaining: 2m 38s\n",
      "43:\tlearn: 1.0024491\ttotal: 2m 2s\tremaining: 2m 36s\n",
      "44:\tlearn: 0.9942365\ttotal: 2m 5s\tremaining: 2m 33s\n",
      "45:\tlearn: 0.9859824\ttotal: 2m 8s\tremaining: 2m 30s\n",
      "46:\tlearn: 0.9764394\ttotal: 2m 10s\tremaining: 2m 27s\n",
      "47:\tlearn: 0.9679568\ttotal: 2m 13s\tremaining: 2m 24s\n",
      "48:\tlearn: 0.9590111\ttotal: 2m 16s\tremaining: 2m 21s\n",
      "49:\tlearn: 0.9507676\ttotal: 2m 19s\tremaining: 2m 19s\n",
      "50:\tlearn: 0.9435150\ttotal: 2m 21s\tremaining: 2m 16s\n",
      "51:\tlearn: 0.9353919\ttotal: 2m 24s\tremaining: 2m 13s\n",
      "52:\tlearn: 0.9270026\ttotal: 2m 27s\tremaining: 2m 10s\n",
      "53:\tlearn: 0.9196312\ttotal: 2m 29s\tremaining: 2m 7s\n",
      "54:\tlearn: 0.9120619\ttotal: 2m 32s\tremaining: 2m 4s\n",
      "55:\tlearn: 0.9048049\ttotal: 2m 35s\tremaining: 2m 2s\n",
      "56:\tlearn: 0.8972984\ttotal: 2m 38s\tremaining: 1m 59s\n",
      "57:\tlearn: 0.8894327\ttotal: 2m 40s\tremaining: 1m 56s\n",
      "58:\tlearn: 0.8825740\ttotal: 2m 43s\tremaining: 1m 53s\n",
      "59:\tlearn: 0.8749667\ttotal: 2m 45s\tremaining: 1m 50s\n",
      "60:\tlearn: 0.8676789\ttotal: 2m 48s\tremaining: 1m 47s\n",
      "61:\tlearn: 0.8608876\ttotal: 2m 51s\tremaining: 1m 45s\n",
      "62:\tlearn: 0.8544174\ttotal: 2m 54s\tremaining: 1m 42s\n",
      "63:\tlearn: 0.8472424\ttotal: 2m 56s\tremaining: 1m 39s\n",
      "64:\tlearn: 0.8408453\ttotal: 2m 59s\tremaining: 1m 36s\n",
      "65:\tlearn: 0.8340488\ttotal: 3m 2s\tremaining: 1m 33s\n",
      "66:\tlearn: 0.8275090\ttotal: 3m 4s\tremaining: 1m 31s\n",
      "67:\tlearn: 0.8205003\ttotal: 3m 7s\tremaining: 1m 28s\n",
      "68:\tlearn: 0.8144381\ttotal: 3m 10s\tremaining: 1m 25s\n",
      "69:\tlearn: 0.8084396\ttotal: 3m 13s\tremaining: 1m 22s\n",
      "70:\tlearn: 0.8016299\ttotal: 3m 15s\tremaining: 1m 19s\n",
      "71:\tlearn: 0.7955851\ttotal: 3m 18s\tremaining: 1m 17s\n",
      "72:\tlearn: 0.7894585\ttotal: 3m 21s\tremaining: 1m 14s\n",
      "73:\tlearn: 0.7837707\ttotal: 3m 24s\tremaining: 1m 11s\n",
      "74:\tlearn: 0.7784273\ttotal: 3m 26s\tremaining: 1m 8s\n",
      "75:\tlearn: 0.7728600\ttotal: 3m 29s\tremaining: 1m 6s\n",
      "76:\tlearn: 0.7668364\ttotal: 3m 31s\tremaining: 1m 3s\n",
      "77:\tlearn: 0.7607936\ttotal: 3m 34s\tremaining: 1m\n",
      "78:\tlearn: 0.7556553\ttotal: 3m 37s\tremaining: 57.8s\n",
      "79:\tlearn: 0.7505770\ttotal: 3m 40s\tremaining: 55s\n",
      "80:\tlearn: 0.7456493\ttotal: 3m 42s\tremaining: 52.3s\n",
      "81:\tlearn: 0.7399962\ttotal: 3m 45s\tremaining: 49.5s\n",
      "82:\tlearn: 0.7347058\ttotal: 3m 48s\tremaining: 46.7s\n",
      "83:\tlearn: 0.7297409\ttotal: 3m 50s\tremaining: 43.9s\n",
      "84:\tlearn: 0.7238727\ttotal: 3m 53s\tremaining: 41.2s\n",
      "85:\tlearn: 0.7186472\ttotal: 3m 56s\tremaining: 38.5s\n",
      "86:\tlearn: 0.7135353\ttotal: 3m 59s\tremaining: 35.7s\n",
      "87:\tlearn: 0.7084647\ttotal: 4m 1s\tremaining: 33s\n",
      "88:\tlearn: 0.7034283\ttotal: 4m 4s\tremaining: 30.2s\n",
      "89:\tlearn: 0.6983665\ttotal: 4m 7s\tremaining: 27.5s\n",
      "90:\tlearn: 0.6936826\ttotal: 4m 10s\tremaining: 24.7s\n",
      "91:\tlearn: 0.6885897\ttotal: 4m 12s\tremaining: 22s\n",
      "92:\tlearn: 0.6834871\ttotal: 4m 15s\tremaining: 19.2s\n",
      "93:\tlearn: 0.6786604\ttotal: 4m 18s\tremaining: 16.5s\n",
      "94:\tlearn: 0.6738452\ttotal: 4m 20s\tremaining: 13.7s\n",
      "95:\tlearn: 0.6693394\ttotal: 4m 23s\tremaining: 11s\n",
      "96:\tlearn: 0.6649220\ttotal: 4m 26s\tremaining: 8.23s\n",
      "97:\tlearn: 0.6606971\ttotal: 4m 28s\tremaining: 5.49s\n",
      "98:\tlearn: 0.6562615\ttotal: 4m 31s\tremaining: 2.74s\n",
      "99:\tlearn: 0.6519131\ttotal: 4m 34s\tremaining: 0us\n"
     ]
    }
   ],
   "source": [
    "#Fit the model or train the model\n",
    "\n",
    "Grid_CBC.fit(x_train, y_train)\n",
    "\n",
    "#returns the estimator with the best performance\n",
    "\n",
    "#returns the best score\n",
    "\n",
    "#returns the best parameters\n",
    "\n",
    "predict3=Grid_CBC.predict(x_test)"
   ]
  },
  {
   "cell_type": "code",
   "execution_count": 39,
   "metadata": {},
   "outputs": [
    {
     "name": "stdout",
     "output_type": "stream",
     "text": [
      "Accuracy Score 0.8573255648713941\n"
     ]
    }
   ],
   "source": [
    "# Test or evaluate the performance of Catboost model \n",
    "\n",
    "predict3=Grid_CBC.predict(x_test)\n",
    "\n",
    "Xgb2=print(\"Accuracy Score\",accuracy_score(y_test,predict3))\n"
   ]
  },
  {
   "cell_type": "code",
   "execution_count": 38,
   "metadata": {},
   "outputs": [
    {
     "name": "stdout",
     "output_type": "stream",
     "text": [
      "Precision Score :  0.8573255648713941\n"
     ]
    }
   ],
   "source": [
    "warnings.filterwarnings('ignore')\n",
    "\n",
    "print(\"Precision Score : \",precision_score(y_test, predict3, pos_label='positive',\n",
    "                                           average='micro'))"
   ]
  },
  {
   "cell_type": "code",
   "execution_count": 40,
   "metadata": {},
   "outputs": [
    {
     "name": "stdout",
     "output_type": "stream",
     "text": [
      "Recall Score :  0.8573255648713941\n"
     ]
    }
   ],
   "source": [
    "print(\"Recall Score : \",recall_score(y_test, predict3, pos_label='positive',\n",
    "                                           average='micro'))"
   ]
  },
  {
   "cell_type": "code",
   "execution_count": null,
   "metadata": {},
   "outputs": [],
   "source": []
  },
  {
   "cell_type": "code",
   "execution_count": 37,
   "metadata": {},
   "outputs": [
    {
     "name": "stdout",
     "output_type": "stream",
     "text": [
      "Confusion matrix:\n",
      " [[1270   75   53   23    8]\n",
      " [ 126 1140   62   44   21]\n",
      " [  70   71 1198   45   17]\n",
      " [  25   28   31 1319    9]\n",
      " [   6   10    7    8 1371]]\n"
     ]
    }
   ],
   "source": [
    "\n",
    "# print the confusion matrix\n",
    "cnf_matrix = confusion_matrix(y_test,Predict1)\n",
    "\n",
    "\n",
    "print('Confusion matrix:\\n', cnf_matrix)\n",
    "                             "
   ]
  },
  {
   "cell_type": "code",
   "execution_count": null,
   "metadata": {},
   "outputs": [],
   "source": []
  },
  {
   "cell_type": "code",
   "execution_count": null,
   "metadata": {},
   "outputs": [],
   "source": [
    "from sklearn.ensemble import RandomForestRegressor\n",
    "from sklearn.model_selection import GridSearchCV\n",
    "\n"
   ]
  },
  {
   "cell_type": "markdown",
   "metadata": {},
   "source": [
    "#### 4. Buld model using Randomforest algorithm  with parametrer Tuning(Grid Search) "
   ]
  },
  {
   "cell_type": "code",
   "execution_count": 93,
   "metadata": {},
   "outputs": [],
   "source": [
    "param_grid = {  'bootstrap': [True], 'max_depth': [5, 10, None], \n",
    "              'max_features': ['auto', 'log2'], 'n_estimators':\n",
    "              [25, 50, 75,100]}"
   ]
  },
  {
   "cell_type": "code",
   "execution_count": 94,
   "metadata": {},
   "outputs": [],
   "source": [
    "rfr = RandomForestClassifier(random_state = 1)\n",
    "\n"
   ]
  },
  {
   "cell_type": "code",
   "execution_count": 95,
   "metadata": {},
   "outputs": [],
   "source": [
    "rf_g_search = GridSearchCV(estimator = rfr, param_grid = param_grid, \n",
    "\n",
    "                          cv = 2, n_jobs = 1, verbose = 0, return_train_score=True)"
   ]
  },
  {
   "cell_type": "code",
   "execution_count": 96,
   "metadata": {},
   "outputs": [],
   "source": [
    "rf_g_search.fit(x_train, y_train);\n",
    "\n"
   ]
  },
  {
   "cell_type": "code",
   "execution_count": 97,
   "metadata": {},
   "outputs": [],
   "source": [
    "rf_gr=rf_g_search.predict(x_test)"
   ]
  },
  {
   "cell_type": "code",
   "execution_count": 98,
   "metadata": {},
   "outputs": [
    {
     "name": "stdout",
     "output_type": "stream",
     "text": [
      "{'bootstrap': True, 'max_depth': None, 'max_features': 'log2', 'n_estimators': 100}\n"
     ]
    }
   ],
   "source": [
    "print(g_search.best_params_)\n",
    "\n"
   ]
  },
  {
   "cell_type": "code",
   "execution_count": 100,
   "metadata": {},
   "outputs": [
    {
     "name": "stdout",
     "output_type": "stream",
     "text": [
      "Accuracy Score 0.9269575103026858\n"
     ]
    }
   ],
   "source": [
    "rf_perform=print(\"Accuracy Score\",accuracy_score(y_test,rf_gr))\n"
   ]
  },
  {
   "cell_type": "code",
   "execution_count": 105,
   "metadata": {},
   "outputs": [
    {
     "name": "stdout",
     "output_type": "stream",
     "text": [
      "Precision Score 0.9274438604897396\n"
     ]
    }
   ],
   "source": [
    "rf_perform=print(\"Precision Score\",precision_score(y_test,rf_gr,average='macro'))\n"
   ]
  },
  {
   "cell_type": "code",
   "execution_count": 54,
   "metadata": {},
   "outputs": [],
   "source": [
    "#Using RandomSearchCSV"
   ]
  },
  {
   "cell_type": "code",
   "execution_count": 140,
   "metadata": {},
   "outputs": [
    {
     "name": "stdout",
     "output_type": "stream",
     "text": [
      "Accuracy of the RF on test set: 0.577\n",
      "              precision    recall  f1-score   support\n",
      "\n",
      "           0       0.87      0.91      0.89      1429\n",
      "           1       0.90      0.88      0.89      1393\n",
      "           2       0.93      0.90      0.91      1401\n",
      "           3       0.95      0.96      0.96      1412\n",
      "           4       0.98      0.99      0.98      1402\n",
      "\n",
      "    accuracy                           0.93      7037\n",
      "   macro avg       0.93      0.93      0.93      7037\n",
      "weighted avg       0.93      0.93      0.93      7037\n",
      "\n"
     ]
    },
    {
     "data": {
      "image/png": "[encoded data removed]",
      "text/plain": [
       "<Figure size 864x288 with 1 Axes>"
      ]
     },
     "metadata": {
      "needs_background": "light"
     },
     "output_type": "display_data"
    }
   ],
   "source": [
    "\n",
    "#Feature impotance\n",
    "#baseline = GradientBoostingClassifier(learning_rate=0.1, n_estimators=100,max_depth=3, min_samples_split=2, min_samples_leaf=1, subsample=1,max_features='sqrt', random_state=10)\n",
    "rf_model.fit(x_train,y_train)\n",
    "predictors=list(x_train)\n",
    "#predictors=list(X_train)\n",
    "feat_imp = pd.Series(rf_model.feature_importances_, predictors).sort_values(ascending=False)\n",
    "feat_imp.plot(kind='bar', title='Importance of Features')\n",
    "plt.ylabel('Feature Importance Score')\n",
    "print('Accuracy of the RF on test set: {:.3f}'.format(rf_model.score(x_test, y_test)))\n",
    "pred=rf_model.predict(x_test)\n",
    "print(classification_report(y_test, rf_gr))"
   ]
  },
  {
   "cell_type": "code",
   "execution_count": 129,
   "metadata": {},
   "outputs": [
    {
     "name": "stdout",
     "output_type": "stream",
     "text": [
      "0.9269575103026858\n"
     ]
    }
   ],
   "source": [
    "print(accuracy_score(y_test,rf_gr))"
   ]
  },
  {
   "cell_type": "markdown",
   "metadata": {},
   "source": [
    "***from The above figure we understand that the most important feature that contribute for IPV predictive model are the first 12 feature(0.14 to 0.05 feature imortant values"
   ]
  },
  {
   "cell_type": "code",
   "execution_count": 142,
   "metadata": {},
   "outputs": [
    {
     "data": {
      "text/plain": [
       "array([7.35867445e-03, 1.06133424e-02, 2.70834219e-02, 1.34315335e-02,\n",
       "       1.99679953e-02, 4.98010710e-02, 2.88637372e-02, 9.28540117e-03,\n",
       "       1.41673098e-02, 2.09298471e-02, 1.60017125e-02, 9.08687873e-03,\n",
       "       4.07756632e-02, 3.65721733e-03, 6.05307575e-04, 1.44738890e-02,\n",
       "       7.91838535e-05, 2.67664546e-02, 5.07095989e-03, 1.79994046e-02,\n",
       "       2.01438569e-02, 1.97162443e-02, 3.41115412e-02, 7.65402187e-03,\n",
       "       4.28986356e-02, 6.66669675e-03, 2.05828098e-02, 1.89265353e-02,\n",
       "       3.13815042e-02, 1.19237055e-02, 7.64671387e-03, 5.93000250e-03,\n",
       "       7.53945822e-03, 1.23706737e-02, 2.95622925e-02, 1.86228585e-02,\n",
       "       1.21300965e-02, 6.83446734e-03, 3.15122839e-02, 7.01055043e-02,\n",
       "       1.25359315e-02, 2.48860986e-02, 5.28495572e-02, 1.31206436e-02,\n",
       "       6.34395067e-03, 1.37984910e-01])"
      ]
     },
     "execution_count": 142,
     "metadata": {},
     "output_type": "execute_result"
    }
   ],
   "source": [
    "rf_model.feature_importances_"
   ]
  },
  {
   "cell_type": "code",
   "execution_count": 143,
   "metadata": {},
   "outputs": [
    {
     "data": {
      "text/plain": [
       "array(['media_exposure', 'women_age', 'region', 'residence',\n",
       "       'woman_education', 'religion', 'ethnicity', 'no_of_H_members',\n",
       "       'no_of_children_Un_5', 'r/n_ship_HH_head', 'sex_HH_head',\n",
       "       'age_H_head', 'wealth_Index', 'total_children_ever_born',\n",
       "       'currently_pregnant', 'No_of_living_children', 'smokes_cigarettes',\n",
       "       'current_martial_status', 'number_of_other_wives',\n",
       "       'marital_duration', 'no_family', 'husband_education',\n",
       "       'husbands_occupation', 'wife_working_status', 'wife_occupation',\n",
       "       'husband_age', 'husband_decides_wife_health_care',\n",
       "       'husband_decides_HH_purchase', 'husband_decides_fimily_vist',\n",
       "       'husband_decides_fin_activity', 'wife_goes_W_teeling_husband',\n",
       "       'wife_neglects_children', 'wife_argues_W_husband',\n",
       "       'wife_burns_food', 'wife_owns_house', 'wife_owns_land',\n",
       "       'wife_asking_use_condom_his_STIs', 'wife_refuses_sex_W_husband',\n",
       "       'husband_j_wife_talks_other_men',\n",
       "       'husband_accuses_wif_unfaithfulness',\n",
       "       'husband_not_permit_meet_her_friends',\n",
       "       'husband_limit_wife_contact_family',\n",
       "       'husband_insists_where wife_is', 'husband_drinks_alcohol',\n",
       "       'wifes_familiy_violence_histrory', 'wife_afraid_hasband'],\n",
       "      dtype=object)"
      ]
     },
     "execution_count": 143,
     "metadata": {},
     "output_type": "execute_result"
    }
   ],
   "source": [
    "rf_model.feature_names_in_"
   ]
  },
  {
   "cell_type": "markdown",
   "metadata": {},
   "source": [
    "***Experimantal Results and Discussion***"
   ]
  },
  {
   "cell_type": "markdown",
   "metadata": {},
   "source": [
    "***Q1.*** Which type of  ***ensemble machine learning algorithms*** is suitable to construct an IPV predictive model?\n",
    "\n",
    "The we decided to use Xgboost as the best predictive homogenous ensemble machine learning model for the prediction of IPV, for further use in risk factor identification,\n"
   ]
  },
  {
   "cell_type": "markdown",
   "metadata": {},
   "source": [
    "***Q2.*** What are the ***demographic and socioeconomic risk factors*** that influence IPV ***preidctive model***? \n",
    "\n",
    "To get the most important feature we used the importance of all the features in the dataset by calculating using feature importance experiment conducted through feature_importance package from sklearn python. \n",
    "Here the important features we selected indicate the biggest impact on the prediction that is generated by the classification model is the most determinant risk factor. \n",
    "\n",
    "The selected important risk factors that mostly affect the predictive model performance are wife afried of husband,husband acusses's unfaithfulness,husband insists where the wifi is,religion,wife occupation,wealth index, husband occupation,wife_owns+house,curent martial status are the most determinant risk factors from all features used for developing a predictive model. \n",
    "\n"
   ]
  },
  {
   "cell_type": "markdown",
   "metadata": {},
   "source": [
    "# 5.Communicating Model Results\n",
    "***here after building and evaluating the predictive model we need to communicate the model results and present our findings to stakeholders***"
   ]
  },
  {
   "cell_type": "markdown",
   "metadata": {},
   "source": []
  }
 ],
 "metadata": {
  "kernelspec": {
   "display_name": "Python 3 (ipykernel)",
   "language": "python",
   "name": "python3"
  },
  "language_info": {
   "codemirror_mode": {
    "name": "ipython",
    "version": 3
   },
   "file_extension": ".py",
   "mimetype": "text/x-python",
   "name": "python",
   "nbconvert_exporter": "python",
   "pygments_lexer": "ipython3",
   "version": "3.9.12"
  }
 },
 "nbformat": 4,
 "nbformat_minor": 2
}
